{
  "nbformat": 4,
  "nbformat_minor": 0,
  "metadata": {
    "colab": {
      "provenance": []
    },
    "kernelspec": {
      "name": "python3",
      "display_name": "Python 3"
    },
    "language_info": {
      "name": "python"
    }
  },
  "cells": [
    {
      "cell_type": "markdown",
      "source": [
        "# Preprocesare\n",
        "\n",
        "Limbajul scris conține o serie de elemente care nu transmit neapărat informații relevante pentru problema pe care încercăm să o rezolvăm. Mai jos este o listă de acțiuni pe care le putem face asupra textului pentru a elimina caracterele nedorite:\n",
        "- tokenizare (împărțim în cuvinte / tokeni)\n",
        "- transformarea tuturor literelor în litere mici\n",
        "- eliminarea cifrelor / transformarea lor în cuvinte\n",
        "- eliminarea semnelor de punctuație\n",
        "- eliminarea (sau înlocuirea) linkurilor [LINK], tagurilor [TAG] și mențiunilor [USER]\n",
        "- eliminarea (sau înlocuirea) emoticoanelor ( :) :D) și emojiurilor (💙 🐱)\n",
        "- eliminarea cuvintelor de legătură (stopwords)\n",
        "- transformarea cuvintelor în cea mai simplă formă a lor (lematizare / stemming)"
      ],
      "metadata": {
        "id": "dl4d-KNd7vcv"
      }
    },
    {
      "cell_type": "code",
      "source": [
        "import nltk\n",
        "nltk.download('punkt')\n",
        "nltk.download('stopwords')\n",
        "nltk.download('wordnet')\n",
        "nltk.download('twitter_samples')"
      ],
      "metadata": {
        "id": "rsxlLK-y8IeR",
        "colab": {
          "base_uri": "https://localhost:8080/"
        },
        "outputId": "978b5762-4b3f-49bf-ecaa-e5926eb392a9"
      },
      "execution_count": 2,
      "outputs": [
        {
          "output_type": "stream",
          "name": "stderr",
          "text": [
            "[nltk_data] Downloading package punkt to /root/nltk_data...\n",
            "[nltk_data]   Unzipping tokenizers/punkt.zip.\n",
            "[nltk_data] Downloading package stopwords to /root/nltk_data...\n",
            "[nltk_data]   Unzipping corpora/stopwords.zip.\n",
            "[nltk_data] Downloading package wordnet to /root/nltk_data...\n",
            "[nltk_data] Downloading package twitter_samples to /root/nltk_data...\n",
            "[nltk_data]   Unzipping corpora/twitter_samples.zip.\n"
          ]
        },
        {
          "output_type": "execute_result",
          "data": {
            "text/plain": [
              "True"
            ]
          },
          "metadata": {},
          "execution_count": 2
        }
      ]
    },
    {
      "cell_type": "markdown",
      "source": [
        "Vom folosi un set de date pentru sentiment analysis:"
      ],
      "metadata": {
        "id": "d9IEhS5P78D6"
      }
    },
    {
      "cell_type": "code",
      "execution_count": 3,
      "metadata": {
        "colab": {
          "base_uri": "https://localhost:8080/"
        },
        "id": "3oyMrHP6FlpR",
        "outputId": "a1fbc94c-dc24-4d7e-ab08-7eb11b3f0331"
      },
      "outputs": [
        {
          "output_type": "execute_result",
          "data": {
            "text/plain": [
              "['#FollowFriday @France_Inte @PKuchly57 @Milipol_Paris for being top engaged members in my community this week :)',\n",
              " '@Lamb2ja Hey James! How odd :/ Please call our Contact Centre on 02392441234 and we will be able to assist you :) Many thanks!',\n",
              " '@DespiteOfficial we had a listen last night :) As You Bleed is an amazing track. When are you in Scotland?!',\n",
              " '@97sides CONGRATS :)',\n",
              " 'yeaaaah yippppy!!!  my accnt verified rqst has succeed got a blue tick mark on my fb profile :) in 15 days',\n",
              " '@BhaktisBanter @PallaviRuhail This one is irresistible :)\\n#FlipkartFashionFriday http://t.co/EbZ0L2VENM',\n",
              " \"We don't like to keep our lovely customers waiting for long! We hope you enjoy! Happy Friday! - LWWF :) https://t.co/smyYriipxI\",\n",
              " '@Impatientraider On second thought, there’s just not enough time for a DD :) But new shorts entering system. Sheep must be buying.',\n",
              " 'Jgh , but we have to go to Bayan :D bye',\n",
              " 'As an act of mischievousness, am calling the ETL layer of our in-house warehousing app Katamari.\\n\\nWell… as the name implies :p.',\n",
              " '#FollowFriday @wncer1 @Defense_gouv for being top influencers in my community this week :)',\n",
              " \"Who Wouldn't Love These Big....Juicy....Selfies :) - http://t.co/QVzjgd1uFo http://t.co/oWBL11eQRY\",\n",
              " '@Mish23615351  follow @jnlazts &amp; http://t.co/RCvcYYO0Iq follow u back :)',\n",
              " \"@jjulieredburn Perfect, so you already know what's waiting for you :)\",\n",
              " 'Great new opportunity for junior triathletes aged 12 and 13 at the Gatorade series! Get your entries in :) http://t.co/of3DyOzML0',\n",
              " 'Laying out a greetings card range for print today - love my job :-)',\n",
              " \"Friend's lunch... yummmm :)\\n#Nostalgia #TBS #KU.\",\n",
              " \"@RookieSenpai @arcadester it is the id conflict thanks for the help :D here's the screenshot of it working\",\n",
              " '@oohdawg_ Hi liv :))',\n",
              " 'Hello I need to know something can u fm me on Twitter?? — sure thing :) dm me x http://t.co/W6Dy130BV7']"
            ]
          },
          "metadata": {},
          "execution_count": 3
        }
      ],
      "source": [
        "from nltk.corpus import twitter_samples\n",
        "\n",
        "tweets = twitter_samples.strings('positive_tweets.json')\n",
        "negative_tweets = twitter_samples.strings('negative_tweets.json')\n",
        "tweets[:20]"
      ]
    },
    {
      "cell_type": "markdown",
      "source": [
        "Din această listă ne vom uita la tweetul numărul 6:"
      ],
      "metadata": {
        "id": "M3Qn2ruK-VXD"
      }
    },
    {
      "cell_type": "code",
      "source": [
        "text = tweets[4]\n",
        "text"
      ],
      "metadata": {
        "colab": {
          "base_uri": "https://localhost:8080/",
          "height": 36
        },
        "id": "4UBV6kuD8yci",
        "outputId": "13f49cae-b989-4e38-8036-e5f53704581c"
      },
      "execution_count": 4,
      "outputs": [
        {
          "output_type": "execute_result",
          "data": {
            "text/plain": [
              "'yeaaaah yippppy!!!  my accnt verified rqst has succeed got a blue tick mark on my fb profile :) in 15 days'"
            ],
            "application/vnd.google.colaboratory.intrinsic+json": {
              "type": "string"
            }
          },
          "metadata": {},
          "execution_count": 4
        }
      ]
    },
    {
      "cell_type": "markdown",
      "source": [
        "## RegEx\n",
        "\n",
        "Un [RegEx](https://www.w3schools.com/python/python_regex.asp) (_Regular Expression_ / _Expresie Regulată_) reprezintă un șir de caractere care definește un șablon de căutare. Poate fi folosit pentru a identifica un subșir într-un string, pentru a-l înlocui sau pentru a împărți textul în jurul lui.\n",
        "\n",
        "Puteți vedea cum funcționează un regex pe un text anume folosind acest link: https://pythex.org/."
      ],
      "metadata": {
        "id": "gw3eZLKkU-fP"
      }
    },
    {
      "cell_type": "code",
      "source": [
        "import re\n",
        "\n",
        "txt = \"The rain   in Spain stays mainly   in the plain\"\n",
        "x = re.search(\"Spai.\", txt)\n",
        "x"
      ],
      "metadata": {
        "colab": {
          "base_uri": "https://localhost:8080/"
        },
        "id": "JY3TpT-V5QX3",
        "outputId": "701cfb31-3d46-46bf-e10f-45cc3475b37e"
      },
      "execution_count": 5,
      "outputs": [
        {
          "output_type": "execute_result",
          "data": {
            "text/plain": [
              "<re.Match object; span=(14, 19), match='Spain'>"
            ]
          },
          "metadata": {},
          "execution_count": 5
        }
      ]
    },
    {
      "cell_type": "markdown",
      "source": [
        "Căutarea unui string nu returnează nimic dacă nu găsește niciun match, altfel returnează un obiect cu matchul exact și poziția la care se află. Stringul devine relevant când folosim alte simboluri pentru pattern matching, cum ar fi:\n",
        "- . - orice caracter\n",
        "- \\+ - mai multe apariții ale caracterului anterior\n",
        "- \\* - un număr nedefinit de apariții are caracterului anterior, incluzând 0"
      ],
      "metadata": {
        "id": "6XX0_VEtWJAr"
      }
    },
    {
      "cell_type": "code",
      "source": [
        "x = re.split(\" +.\", txt)\n",
        "print(x)"
      ],
      "metadata": {
        "colab": {
          "base_uri": "https://localhost:8080/"
        },
        "id": "37jcxol7D7yu",
        "outputId": "fe47a815-68f8-44a6-98fe-5d175fc44a12"
      },
      "execution_count": 6,
      "outputs": [
        {
          "output_type": "stream",
          "name": "stdout",
          "text": [
            "['The', 'ain', 'n', 'pain', 'tays', 'ainly', 'n', 'he', 'lain']\n"
          ]
        }
      ]
    },
    {
      "cell_type": "markdown",
      "source": [
        "Alte caractere speciale:\n",
        "- \\d - cifre\n",
        "- \\D - nu cifre\n",
        "- \\s - spațiu\n",
        "- \\S - nu spațiu\n",
        "- \\w - litere mici, majuscule, caracterul \"_\"\n",
        "- \\W - tot ce nu e \\w\n",
        "- [a-m] - setul de caractere din interior. Poate include intervale\n",
        "\n",
        "Librăria completă poate fi găsită aici https://docs.python.org/3/library/re.html."
      ],
      "metadata": {
        "id": "7c-ppOwgEszZ"
      }
    },
    {
      "cell_type": "markdown",
      "source": [
        "Putem folosi un regex să identificăm toate cuvintele care includ secvența \"ai\":\n"
      ],
      "metadata": {
        "id": "iZBBAPXQtMAz"
      }
    },
    {
      "cell_type": "code",
      "source": [
        "x = re.findall(\"\\w*ai\\w\", txt)\n",
        "print(x)"
      ],
      "metadata": {
        "colab": {
          "base_uri": "https://localhost:8080/"
        },
        "id": "Oxme5CAus_uJ",
        "outputId": "a2f96a3e-51bb-4b8e-d790-2106cc7008bc"
      },
      "execution_count": 7,
      "outputs": [
        {
          "output_type": "stream",
          "name": "stdout",
          "text": [
            "['rain', 'Spain', 'main', 'plain']\n"
          ]
        }
      ]
    },
    {
      "cell_type": "markdown",
      "source": [
        "## Tokenizare"
      ],
      "metadata": {
        "id": "tn5YBCwU-aWa"
      }
    },
    {
      "cell_type": "markdown",
      "source": [
        "Putem separa cuvintele în funcție de spațiu:"
      ],
      "metadata": {
        "id": "IJD7UdyZ-Yuo"
      }
    },
    {
      "cell_type": "code",
      "source": [
        "text.split()"
      ],
      "metadata": {
        "colab": {
          "base_uri": "https://localhost:8080/"
        },
        "id": "NOCqYz_4-IKO",
        "outputId": "a76e8c6e-b127-4000-f252-63b2487f078a"
      },
      "execution_count": 8,
      "outputs": [
        {
          "output_type": "execute_result",
          "data": {
            "text/plain": [
              "['yeaaaah',\n",
              " 'yippppy!!!',\n",
              " 'my',\n",
              " 'accnt',\n",
              " 'verified',\n",
              " 'rqst',\n",
              " 'has',\n",
              " 'succeed',\n",
              " 'got',\n",
              " 'a',\n",
              " 'blue',\n",
              " 'tick',\n",
              " 'mark',\n",
              " 'on',\n",
              " 'my',\n",
              " 'fb',\n",
              " 'profile',\n",
              " ':)',\n",
              " 'in',\n",
              " '15',\n",
              " 'days']"
            ]
          },
          "metadata": {},
          "execution_count": 8
        }
      ]
    },
    {
      "cell_type": "markdown",
      "source": [
        "Sau cu ajutorul unei funcții:"
      ],
      "metadata": {
        "id": "NKLq4kvk-qGk"
      }
    },
    {
      "cell_type": "code",
      "source": [
        "from nltk import word_tokenize\n",
        "\n",
        "word_tokenize(text)"
      ],
      "metadata": {
        "colab": {
          "base_uri": "https://localhost:8080/"
        },
        "id": "PdfxhJDV-L6Z",
        "outputId": "14d8585c-ba7a-47ee-b38b-235b3968b1c6"
      },
      "execution_count": 9,
      "outputs": [
        {
          "output_type": "execute_result",
          "data": {
            "text/plain": [
              "['yeaaaah',\n",
              " 'yippppy',\n",
              " '!',\n",
              " '!',\n",
              " '!',\n",
              " 'my',\n",
              " 'accnt',\n",
              " 'verified',\n",
              " 'rqst',\n",
              " 'has',\n",
              " 'succeed',\n",
              " 'got',\n",
              " 'a',\n",
              " 'blue',\n",
              " 'tick',\n",
              " 'mark',\n",
              " 'on',\n",
              " 'my',\n",
              " 'fb',\n",
              " 'profile',\n",
              " ':',\n",
              " ')',\n",
              " 'in',\n",
              " '15',\n",
              " 'days']"
            ]
          },
          "metadata": {},
          "execution_count": 9
        }
      ]
    },
    {
      "cell_type": "code",
      "source": [
        "word_tokenize(\"we don't like to keep our lovely customers waiting for long! we hope you enjoy! happy friday! - lwwf :) https://t.co/smyyriipxi\")"
      ],
      "metadata": {
        "colab": {
          "base_uri": "https://localhost:8080/"
        },
        "id": "WMwTYeKdSeZg",
        "outputId": "4149de7f-ce64-4dd9-d39e-1007a85aa6f9"
      },
      "execution_count": 10,
      "outputs": [
        {
          "output_type": "execute_result",
          "data": {
            "text/plain": [
              "['we',\n",
              " 'do',\n",
              " \"n't\",\n",
              " 'like',\n",
              " 'to',\n",
              " 'keep',\n",
              " 'our',\n",
              " 'lovely',\n",
              " 'customers',\n",
              " 'waiting',\n",
              " 'for',\n",
              " 'long',\n",
              " '!',\n",
              " 'we',\n",
              " 'hope',\n",
              " 'you',\n",
              " 'enjoy',\n",
              " '!',\n",
              " 'happy',\n",
              " 'friday',\n",
              " '!',\n",
              " '-',\n",
              " 'lwwf',\n",
              " ':',\n",
              " ')',\n",
              " 'https',\n",
              " ':',\n",
              " '//t.co/smyyriipxi']"
            ]
          },
          "metadata": {},
          "execution_count": 10
        }
      ]
    },
    {
      "cell_type": "markdown",
      "source": [
        "Putem separa propozițiile între ele tot cu ajutorul unei funcții:"
      ],
      "metadata": {
        "id": "z0F6UHtj-x7a"
      }
    },
    {
      "cell_type": "code",
      "source": [
        "from nltk import sent_tokenize\n",
        "\n",
        "sent_tokenize(text)"
      ],
      "metadata": {
        "colab": {
          "base_uri": "https://localhost:8080/"
        },
        "id": "X1-tSrGR-Ldo",
        "outputId": "90fdedcf-a779-4d78-ccc9-4cad0e7d611e"
      },
      "execution_count": 11,
      "outputs": [
        {
          "output_type": "execute_result",
          "data": {
            "text/plain": [
              "['yeaaaah yippppy!!!',\n",
              " 'my accnt verified rqst has succeed got a blue tick mark on my fb profile :) in 15 days']"
            ]
          },
          "metadata": {},
          "execution_count": 11
        }
      ]
    },
    {
      "cell_type": "markdown",
      "source": [
        "## Litere mici (lowercase)\n",
        "\n",
        "Transformarea literelor în minuscule este cea mai simplă operație:"
      ],
      "metadata": {
        "id": "wfdewSsB--21"
      }
    },
    {
      "cell_type": "code",
      "source": [
        "text.lower()"
      ],
      "metadata": {
        "colab": {
          "base_uri": "https://localhost:8080/",
          "height": 36
        },
        "id": "pnJNtg65_AJj",
        "outputId": "38b45281-f026-4980-a899-ed019a5c35b8"
      },
      "execution_count": 12,
      "outputs": [
        {
          "output_type": "execute_result",
          "data": {
            "text/plain": [
              "'yeaaaah yippppy!!!  my accnt verified rqst has succeed got a blue tick mark on my fb profile :) in 15 days'"
            ],
            "application/vnd.google.colaboratory.intrinsic+json": {
              "type": "string"
            }
          },
          "metadata": {},
          "execution_count": 12
        }
      ]
    },
    {
      "cell_type": "markdown",
      "source": [
        "## Eliminarea cifrelor"
      ],
      "metadata": {
        "id": "cnAi1PAP_VJv"
      }
    },
    {
      "cell_type": "code",
      "source": [
        "\"63\".isdigit()"
      ],
      "metadata": {
        "colab": {
          "base_uri": "https://localhost:8080/"
        },
        "id": "USTJIfgw_dMH",
        "outputId": "b664dee3-608b-468f-d4d1-5469b8bd95e4"
      },
      "execution_count": 13,
      "outputs": [
        {
          "output_type": "execute_result",
          "data": {
            "text/plain": [
              "True"
            ]
          },
          "metadata": {},
          "execution_count": 13
        }
      ]
    },
    {
      "cell_type": "code",
      "source": [
        "\"not5\".isdigit()"
      ],
      "metadata": {
        "id": "0MnC2qjUSxzV",
        "outputId": "1d05b63c-ced3-48f4-a21f-aece4631c912",
        "colab": {
          "base_uri": "https://localhost:8080/"
        }
      },
      "execution_count": 14,
      "outputs": [
        {
          "output_type": "execute_result",
          "data": {
            "text/plain": [
              "False"
            ]
          },
          "metadata": {},
          "execution_count": 14
        }
      ]
    },
    {
      "cell_type": "markdown",
      "source": [
        "Pentru a transforma numerele în cuvinte putem folosi librăria num2words:"
      ],
      "metadata": {
        "id": "DPnhn5xzBf9T"
      }
    },
    {
      "cell_type": "code",
      "source": [
        "!pip install num2words"
      ],
      "metadata": {
        "colab": {
          "base_uri": "https://localhost:8080/"
        },
        "id": "bXRBmKlZBeFc",
        "outputId": "e94a777f-75e6-4dba-c53c-21f6337e7dee"
      },
      "execution_count": 15,
      "outputs": [
        {
          "output_type": "stream",
          "name": "stdout",
          "text": [
            "Collecting num2words\n",
            "  Downloading num2words-0.5.13-py3-none-any.whl (143 kB)\n",
            "\u001b[?25l     \u001b[90m━━━━━━━━━━━━━━━━━━━━━━━━━━━━━━━━━━━━━━━━\u001b[0m \u001b[32m0.0/143.3 kB\u001b[0m \u001b[31m?\u001b[0m eta \u001b[36m-:--:--\u001b[0m\r\u001b[2K     \u001b[91m━━━━━━━━━━━━━━━━━━━━━━━━━\u001b[0m\u001b[91m╸\u001b[0m\u001b[90m━━━━━━━━━━━━━━\u001b[0m \u001b[32m92.2/143.3 kB\u001b[0m \u001b[31m2.7 MB/s\u001b[0m eta \u001b[36m0:00:01\u001b[0m\r\u001b[2K     \u001b[90m━━━━━━━━━━━━━━━━━━━━━━━━━━━━━━━━━━━━━━━━\u001b[0m \u001b[32m143.3/143.3 kB\u001b[0m \u001b[31m2.6 MB/s\u001b[0m eta \u001b[36m0:00:00\u001b[0m\n",
            "\u001b[?25hCollecting docopt>=0.6.2 (from num2words)\n",
            "  Downloading docopt-0.6.2.tar.gz (25 kB)\n",
            "  Preparing metadata (setup.py) ... \u001b[?25l\u001b[?25hdone\n",
            "Building wheels for collected packages: docopt\n",
            "  Building wheel for docopt (setup.py) ... \u001b[?25l\u001b[?25hdone\n",
            "  Created wheel for docopt: filename=docopt-0.6.2-py2.py3-none-any.whl size=13706 sha256=3a47730838a9cf79616653383a1cd0c426f372fceeca26ff52b7debd4b838b71\n",
            "  Stored in directory: /root/.cache/pip/wheels/fc/ab/d4/5da2067ac95b36618c629a5f93f809425700506f72c9732fac\n",
            "Successfully built docopt\n",
            "Installing collected packages: docopt, num2words\n",
            "Successfully installed docopt-0.6.2 num2words-0.5.13\n"
          ]
        }
      ]
    },
    {
      "cell_type": "code",
      "source": [
        "from num2words import num2words\n",
        "\n",
        "num2words(15)"
      ],
      "metadata": {
        "colab": {
          "base_uri": "https://localhost:8080/",
          "height": 36
        },
        "id": "4pB0jEDjCIv7",
        "outputId": "d7573fcc-ec55-41a1-df29-9121548db02d"
      },
      "execution_count": 16,
      "outputs": [
        {
          "output_type": "execute_result",
          "data": {
            "text/plain": [
              "'fifteen'"
            ],
            "application/vnd.google.colaboratory.intrinsic+json": {
              "type": "string"
            }
          },
          "metadata": {},
          "execution_count": 16
        }
      ]
    },
    {
      "cell_type": "markdown",
      "source": [
        "Cum putem identifica toate numerele dintr-un text?"
      ],
      "metadata": {
        "id": "HY0WljcjZZMC"
      }
    },
    {
      "cell_type": "code",
      "source": [
        "text = \"yeaaaah yippppy!!!  my accnt verified rqst has succeed got a blue tick mark on my fb profile :) in 15 days\""
      ],
      "metadata": {
        "id": "nqK41Kwofk_O"
      },
      "execution_count": 30,
      "outputs": []
    },
    {
      "cell_type": "code",
      "source": [
        "# TODO: Parcurge tokenii din text si afiseaza numerele\n",
        "def get_numbers_1(text):\n",
        "  \"\"\" Varianta C++ \"\"\"\n",
        "  numbers = []\n",
        "  for token in word_tokenize(text):\n",
        "    if token.isdigit():\n",
        "      numbers.append(token)\n",
        "  return numbers\n",
        "\n",
        "\n",
        "def get_numbers_2(text):\n",
        "  \"\"\" Varianta cu list comprehension \"\"\"\n",
        "  return [token for token in word_tokenize(text) if token.isdigit()]\n",
        "\n",
        "\n",
        "def get_numbers_3(text):\n",
        "  \"\"\" Varianta cu RegEx \"\"\"\n",
        "  return re.findall(r\"\\d+\", text)\n",
        "\n",
        "\n",
        "get_numbers_3(text)"
      ],
      "metadata": {
        "id": "Ml0uzTHyZVfE",
        "outputId": "0ee08ef9-2636-4c72-d41d-a0f4071c1483",
        "colab": {
          "base_uri": "https://localhost:8080/"
        }
      },
      "execution_count": 31,
      "outputs": [
        {
          "output_type": "execute_result",
          "data": {
            "text/plain": [
              "['15']"
            ]
          },
          "metadata": {},
          "execution_count": 31
        }
      ]
    },
    {
      "cell_type": "code",
      "source": [
        "# TODO: Creeaza o lista cu toate cuvintele din text inafara de numere\n",
        "def filter_numbers(text):\n",
        "  return [token for token in word_tokenize(text) if not token.isdigit()]\n",
        "\n",
        "\n",
        "filter_numbers(text)"
      ],
      "metadata": {
        "id": "MkfpwWgZZ-AI",
        "outputId": "c167ac37-1cf3-411b-fa98-dda4ab58b53f",
        "colab": {
          "base_uri": "https://localhost:8080/"
        }
      },
      "execution_count": 35,
      "outputs": [
        {
          "output_type": "execute_result",
          "data": {
            "text/plain": [
              "['yeaaaah',\n",
              " 'yippppy',\n",
              " '!',\n",
              " '!',\n",
              " '!',\n",
              " 'my',\n",
              " 'accnt',\n",
              " 'verified',\n",
              " 'rqst',\n",
              " 'has',\n",
              " 'succeed',\n",
              " 'got',\n",
              " 'a',\n",
              " 'blue',\n",
              " 'tick',\n",
              " 'mark',\n",
              " 'on',\n",
              " 'my',\n",
              " 'fb',\n",
              " 'profile',\n",
              " ':',\n",
              " ')',\n",
              " 'in',\n",
              " 'days']"
            ]
          },
          "metadata": {},
          "execution_count": 35
        }
      ]
    },
    {
      "cell_type": "markdown",
      "source": [
        "## Eliminarea semnelor de punctuatie\n",
        "\n",
        "Exista o librarie care deja contine toate semnele de punctuatie:"
      ],
      "metadata": {
        "id": "piTV6d9O8uG_"
      }
    },
    {
      "cell_type": "code",
      "source": [
        "from string import punctuation\n",
        "\n",
        "print(punctuation)"
      ],
      "metadata": {
        "colab": {
          "base_uri": "https://localhost:8080/"
        },
        "id": "Y6nY6Ca_bvr_",
        "outputId": "ba94d037-0161-49eb-91f5-e6827415b6bc"
      },
      "execution_count": 37,
      "outputs": [
        {
          "output_type": "stream",
          "name": "stdout",
          "text": [
            "!\"#$%&'()*+,-./:;<=>?@[\\]^_`{|}~\n"
          ]
        }
      ]
    },
    {
      "cell_type": "markdown",
      "source": [
        "Elimina toate semnele de punctuatie din text:"
      ],
      "metadata": {
        "id": "L859kvPqcC-J"
      }
    },
    {
      "cell_type": "code",
      "source": [
        "# TODO: Creeaza o lista cu toate cuvintele din text inafara de semnele de punctuatie\n",
        "def filter_punctuation(text):\n",
        "  return [token for token in word_tokenize(text) if token not in punctuation]\n",
        "\n",
        "\n",
        "filter_punctuation(text)"
      ],
      "metadata": {
        "id": "Nr8nvT14cJq_",
        "outputId": "ded616dc-e316-41c2-ab98-06972ff6fd23",
        "colab": {
          "base_uri": "https://localhost:8080/"
        }
      },
      "execution_count": 38,
      "outputs": [
        {
          "output_type": "execute_result",
          "data": {
            "text/plain": [
              "['yeaaaah',\n",
              " 'yippppy',\n",
              " 'my',\n",
              " 'accnt',\n",
              " 'verified',\n",
              " 'rqst',\n",
              " 'has',\n",
              " 'succeed',\n",
              " 'got',\n",
              " 'a',\n",
              " 'blue',\n",
              " 'tick',\n",
              " 'mark',\n",
              " 'on',\n",
              " 'my',\n",
              " 'fb',\n",
              " 'profile',\n",
              " 'in',\n",
              " '15',\n",
              " 'days']"
            ]
          },
          "metadata": {},
          "execution_count": 38
        }
      ]
    },
    {
      "cell_type": "markdown",
      "source": [
        "## Eliminarea linkurilor, tagurilor si mentiunilor\n",
        "\n",
        "Linkurile incep (de obicei) cu caracterele \"http\", tagurile cu \"#\" si mentiunile cu \"@\". Cum ne putem folosi de informatia asta pentru a le elimina din text?"
      ],
      "metadata": {
        "id": "9HJ7C9UrcORA"
      }
    },
    {
      "cell_type": "code",
      "source": [
        "# TODO: Elimina linkurile, tagurile si mentiunile din text\n",
        "text = \"@BhaktisBanter @PallaviRuhail This one is irresistible :)\\n#FlipkartFashionFriday http://t.co/EbZ0L2VENM\"\n",
        "\n",
        "def filter_other(text):\n",
        "  return re.sub(r\"(@|#|http)(\\w|:|/|\\.)*\", \"\", text)\n",
        "\n",
        "\n",
        "filter_other(text)"
      ],
      "metadata": {
        "id": "w-wsmugZcUlc",
        "outputId": "404f37b9-f059-47f8-c6d8-e34abd8c530b",
        "colab": {
          "base_uri": "https://localhost:8080/",
          "height": 36
        }
      },
      "execution_count": 65,
      "outputs": [
        {
          "output_type": "execute_result",
          "data": {
            "text/plain": [
              "'  This one is irresistible :)\\n '"
            ],
            "application/vnd.google.colaboratory.intrinsic+json": {
              "type": "string"
            }
          },
          "metadata": {},
          "execution_count": 65
        }
      ]
    },
    {
      "cell_type": "markdown",
      "source": [
        "## Emoticoane & emojiuri\n",
        "\n",
        "Tokenizarea se bazează de obicei pe spații și punctuație, ceea ce înseamnă că nu știe să gestioneze emoticoanele. O variantă este să ne creăm propriul regex care să identifice simbolurile să să le înlocuiască cu emoția corespunzătoare.\n",
        "\n",
        "Un scurt exemplu:"
      ],
      "metadata": {
        "id": "izNSmtGue7gD"
      }
    },
    {
      "cell_type": "code",
      "source": [
        "emoticons = {\n",
        "    \"happy\": r\":[\\)|D+]\",\n",
        "    \"laugh\": r\":\\)\\)+\",\n",
        "    \"sad\": r\":\\(+\"\n",
        "}"
      ],
      "metadata": {
        "id": "JVKGAPTzKrwP"
      },
      "execution_count": 66,
      "outputs": []
    },
    {
      "cell_type": "markdown",
      "source": [
        "Pentru emoticoane putem folosi biblioteca [emoji](https://pypi.org/project/emoji/):"
      ],
      "metadata": {
        "id": "dL_3jA0j-HrL"
      }
    },
    {
      "cell_type": "code",
      "source": [
        "!pip install emoji"
      ],
      "metadata": {
        "colab": {
          "base_uri": "https://localhost:8080/"
        },
        "id": "_2jGoaJnQUGD",
        "outputId": "0071f7f6-5086-4441-de28-0f40fd0064e5"
      },
      "execution_count": 67,
      "outputs": [
        {
          "output_type": "stream",
          "name": "stdout",
          "text": [
            "Collecting emoji\n",
            "  Downloading emoji-2.11.0-py2.py3-none-any.whl (433 kB)\n",
            "\u001b[?25l     \u001b[90m━━━━━━━━━━━━━━━━━━━━━━━━━━━━━━━━━━━━━━━━\u001b[0m \u001b[32m0.0/433.8 kB\u001b[0m \u001b[31m?\u001b[0m eta \u001b[36m-:--:--\u001b[0m\r\u001b[2K     \u001b[91m━━━━━━━━━━━━━━━━━\u001b[0m\u001b[91m╸\u001b[0m\u001b[90m━━━━━━━━━━━━━━━━━━━━━━\u001b[0m \u001b[32m194.6/433.8 kB\u001b[0m \u001b[31m5.8 MB/s\u001b[0m eta \u001b[36m0:00:01\u001b[0m\r\u001b[2K     \u001b[91m━━━━━━━━━━━━━━━━━━━━━━━━━━━━━━━━━━━━━━━\u001b[0m\u001b[91m╸\u001b[0m \u001b[32m430.1/433.8 kB\u001b[0m \u001b[31m7.9 MB/s\u001b[0m eta \u001b[36m0:00:01\u001b[0m\r\u001b[2K     \u001b[90m━━━━━━━━━━━━━━━━━━━━━━━━━━━━━━━━━━━━━━━━\u001b[0m \u001b[32m433.8/433.8 kB\u001b[0m \u001b[31m5.8 MB/s\u001b[0m eta \u001b[36m0:00:00\u001b[0m\n",
            "\u001b[?25hInstalling collected packages: emoji\n",
            "Successfully installed emoji-2.11.0\n"
          ]
        }
      ]
    },
    {
      "cell_type": "code",
      "source": [
        "import emoji\n",
        "\n",
        "print(tweets[24])\n",
        "emoji.demojize(tweets[24])"
      ],
      "metadata": {
        "colab": {
          "base_uri": "https://localhost:8080/",
          "height": 53
        },
        "id": "MgVVPDioOeFx",
        "outputId": "93d31552-6015-4444-f813-00fc994a2f0f"
      },
      "execution_count": 68,
      "outputs": [
        {
          "output_type": "stream",
          "name": "stdout",
          "text": [
            "💅🏽💋 - :)))) haven't seen you in years\n"
          ]
        },
        {
          "output_type": "execute_result",
          "data": {
            "text/plain": [
              "\":nail_polish_medium_skin_tone::kiss_mark: - :)))) haven't seen you in years\""
            ],
            "application/vnd.google.colaboratory.intrinsic+json": {
              "type": "string"
            }
          },
          "metadata": {},
          "execution_count": 68
        }
      ]
    },
    {
      "cell_type": "markdown",
      "source": [
        "## Eliminarea cuvintelor de legatura (stopwords)"
      ],
      "metadata": {
        "id": "PL8o18mSf7Fo"
      }
    },
    {
      "cell_type": "code",
      "source": [
        "from nltk.corpus import stopwords\n",
        "\n",
        "stop_words = stopwords.words('english')\n",
        "stop_words[:10]"
      ],
      "metadata": {
        "colab": {
          "base_uri": "https://localhost:8080/"
        },
        "id": "LISzqvjfgD98",
        "outputId": "9a461832-7410-461f-9c00-99993f71bd5c"
      },
      "execution_count": 69,
      "outputs": [
        {
          "output_type": "execute_result",
          "data": {
            "text/plain": [
              "['i', 'me', 'my', 'myself', 'we', 'our', 'ours', 'ourselves', 'you', \"you're\"]"
            ]
          },
          "metadata": {},
          "execution_count": 69
        }
      ]
    },
    {
      "cell_type": "markdown",
      "source": [
        "Elimina toate cuvintele din text care se regasesc in lista de cuvinte de legatura:"
      ],
      "metadata": {
        "id": "g4XC4Lm6gbss"
      }
    },
    {
      "cell_type": "code",
      "source": [
        "# TODO: Elimina stopwords din text\n",
        "def filter_stopwords(text):\n",
        "  return ' '.join([token for token in word_tokenize(text) if token not in stop_words])\n",
        "\n",
        "filter_stopwords(text)"
      ],
      "metadata": {
        "id": "DZlrpdIggb4u",
        "outputId": "f74f09b1-1f71-4a5e-d07c-8483c7d796db",
        "colab": {
          "base_uri": "https://localhost:8080/",
          "height": 36
        }
      },
      "execution_count": 71,
      "outputs": [
        {
          "output_type": "execute_result",
          "data": {
            "text/plain": [
              "'@ BhaktisBanter @ PallaviRuhail This one irresistible : ) # FlipkartFashionFriday http : //t.co/EbZ0L2VENM'"
            ],
            "application/vnd.google.colaboratory.intrinsic+json": {
              "type": "string"
            }
          },
          "metadata": {},
          "execution_count": 71
        }
      ]
    },
    {
      "cell_type": "markdown",
      "source": [
        "## Lematizare sau Stemming\n",
        "\n",
        "Ne amintim ca lematizarea aduce un cuvant la forma sa de dictionar, in timp ce stemmingul elimina o serie de prefixe / sufixe predefinite:"
      ],
      "metadata": {
        "id": "HmORcnTsgyV8"
      }
    },
    {
      "cell_type": "markdown",
      "source": [
        "![1_HLQgkMt5-g5WO5VpNuTl_g.jpeg](https://miro.medium.com/max/564/1*HLQgkMt5-g5WO5VpNuTl_g.jpeg)"
      ],
      "metadata": {
        "id": "gV_8FD4Jj8df"
      }
    },
    {
      "cell_type": "code",
      "source": [
        "from nltk.stem import WordNetLemmatizer\n",
        "\n",
        "lemmatizer = WordNetLemmatizer()\n",
        "\n",
        "print(\"leaves :\", lemmatizer.lemmatize(\"leaves\"))"
      ],
      "metadata": {
        "colab": {
          "base_uri": "https://localhost:8080/"
        },
        "id": "dVqVnRi0kOXP",
        "outputId": "15fdeb29-2a07-41e6-cb0e-fd0a1348e92d"
      },
      "execution_count": 72,
      "outputs": [
        {
          "output_type": "stream",
          "name": "stdout",
          "text": [
            "leaves : leaf\n"
          ]
        }
      ]
    },
    {
      "cell_type": "code",
      "source": [
        "from nltk.stem import PorterStemmer\n",
        "\n",
        "stemmer = PorterStemmer()\n",
        "\n",
        "print(\"leaves :\", stemmer.stem(\"leaves\"))"
      ],
      "metadata": {
        "colab": {
          "base_uri": "https://localhost:8080/"
        },
        "id": "4VguW1v_kV6L",
        "outputId": "051c138f-8311-49f6-e988-fea9199083a1"
      },
      "execution_count": 73,
      "outputs": [
        {
          "output_type": "stream",
          "name": "stdout",
          "text": [
            "leaves : leav\n"
          ]
        }
      ]
    },
    {
      "cell_type": "markdown",
      "source": [
        "# Exercitiu\n",
        "\n",
        "Creaza o functie care primeste un tweet ca parametru si returneaza o lista de cuvinte asupra carora am aplicat toate operatiile de preprocesare discutate până acum."
      ],
      "metadata": {
        "id": "_BbhEbABcXBN"
      }
    },
    {
      "cell_type": "code",
      "source": [
        "def preprocess(text):\n",
        "  return [lemmatizer.lemmatize(token.lower()) for token in emoji.demojize(text).split() \\\n",
        "          if not token.isdigit() and \\\n",
        "          token not in punctuation and \\\n",
        "          token[0] not in ['#', '@'] and token[:3] not in ['htt', 'www'] and \\\n",
        "          token not in stop_words]\n",
        "\n",
        "preprocess(text)"
      ],
      "metadata": {
        "id": "TbT0qgRkcmSp",
        "outputId": "8b13c830-fba4-41a2-a402-b5f6b52eef04",
        "colab": {
          "base_uri": "https://localhost:8080/"
        }
      },
      "execution_count": 76,
      "outputs": [
        {
          "output_type": "execute_result",
          "data": {
            "text/plain": [
              "['this', 'one', 'irresistible', ':)']"
            ]
          },
          "metadata": {},
          "execution_count": 76
        }
      ]
    },
    {
      "cell_type": "markdown",
      "source": [
        "# Exercitiu\n",
        "\n",
        "Testează mai multe combinații de preprocesări și embeddings pe setul de date de azi folosind unul din modelele de data trecută."
      ],
      "metadata": {
        "id": "PLfjtrVxFu9r"
      }
    },
    {
      "cell_type": "code",
      "source": [],
      "metadata": {
        "id": "MFlXZfQoFu91"
      },
      "execution_count": null,
      "outputs": []
    }
  ]
}