{
  "nbformat": 4,
  "nbformat_minor": 0,
  "metadata": {
    "colab": {
      "provenance": []
    },
    "kernelspec": {
      "name": "python3",
      "display_name": "Python 3"
    },
    "language_info": {
      "name": "python"
    }
  },
  "cells": [
    {
      "cell_type": "markdown",
      "source": [
        "# Reprezentarea Cuvintelor (sau _Word Embeddings_)\n",
        "\n",
        "Acest laborator prezintă conceptele cheie și pașii pentru implementarea unei modalități de reprezentare a textelor sau cuvintelor ca vectori."
      ],
      "metadata": {
        "id": "q_G6xYEW1Eja"
      }
    },
    {
      "cell_type": "markdown",
      "source": [
        "## Setul de date"
      ],
      "metadata": {
        "id": "xnF1IrxEd43O"
      }
    },
    {
      "cell_type": "markdown",
      "source": [
        "Primul set de date pe care îl vom folosi este _common_texts_. Acesta conține o listă de documente, unde fiecare document conține o serie de cuvinte cheie prezentate tot ca o listă. Setul este mic si multe cuvinte se repetă, ceea ce îl face ușor de urmărit:"
      ],
      "metadata": {
        "id": "Gti7OAr-dmW-"
      }
    },
    {
      "cell_type": "code",
      "source": [
        "from gensim.test.utils import common_texts\n",
        "\n",
        "common_texts"
      ],
      "metadata": {
        "colab": {
          "base_uri": "https://localhost:8080/"
        },
        "id": "S4UJhYwhZ8vL",
        "outputId": "c5c7626b-12cd-4eed-9681-ad4b7f952a18"
      },
      "execution_count": 1,
      "outputs": [
        {
          "output_type": "execute_result",
          "data": {
            "text/plain": [
              "[['human', 'interface', 'computer'],\n",
              " ['survey', 'user', 'computer', 'system', 'response', 'time'],\n",
              " ['eps', 'user', 'interface', 'system'],\n",
              " ['system', 'human', 'system', 'eps'],\n",
              " ['user', 'response', 'time'],\n",
              " ['trees'],\n",
              " ['graph', 'trees'],\n",
              " ['graph', 'minors', 'trees'],\n",
              " ['graph', 'minors', 'survey']]"
            ]
          },
          "metadata": {},
          "execution_count": 1
        }
      ]
    },
    {
      "cell_type": "code",
      "source": [
        "text = [\n",
        "  'human interface computer',\n",
        "  'survey user computer system response time',\n",
        "  'eps user interface system',\n",
        "  'system human system eps',\n",
        "  'user response time',\n",
        "  'trees',\n",
        "  'graph trees',\n",
        "  'graph minors trees',\n",
        "  'graph minors survey'\n",
        "]"
      ],
      "metadata": {
        "id": "Y5HHDl5WDkOy"
      },
      "execution_count": 2,
      "outputs": []
    },
    {
      "cell_type": "markdown",
      "source": [
        "În general o să folosim seturi de date mai mari, care ne transmit mai multe informații. Momentan folosim acest set de date fiindcă se mișcă mai rapid."
      ],
      "metadata": {
        "id": "pTqWJZnvAKOU"
      }
    },
    {
      "cell_type": "markdown",
      "source": [
        "## Bag of Words\n",
        "\n",
        "Nu vom implementa niciun model manual, vom folosi implementările deja existente. Pentru Bag of Words, aceasta se numește _CountVectorizer_:"
      ],
      "metadata": {
        "id": "kGGceCGWaRcM"
      }
    },
    {
      "cell_type": "code",
      "source": [
        "from sklearn.feature_extraction.text import CountVectorizer"
      ],
      "metadata": {
        "id": "sddR0EQSBSot"
      },
      "execution_count": 3,
      "outputs": []
    },
    {
      "cell_type": "markdown",
      "source": [
        "_CountVectorizer_ este clasa pe care o vom folosi pentru a traduce fiecare propoziție din setul de date în varianta numerică a acesteia. Pentru asta trebuie să creăm o instanță a clasei noastre:"
      ],
      "metadata": {
        "id": "VC4FZiO0BS0C"
      }
    },
    {
      "cell_type": "code",
      "source": [
        "vectorizer = CountVectorizer()"
      ],
      "metadata": {
        "id": "R0g_8f2rB0L-"
      },
      "execution_count": 9,
      "outputs": []
    },
    {
      "cell_type": "markdown",
      "source": [
        "_vectorizer_ este numele pe care îl vom da listei noastre de valori care ne transmit informațiile despre text.\n",
        "Pentru a aplica modelul pe textul nostru trebuie să apelăm funcția _fit_transform_ din interiorul instanței:"
      ],
      "metadata": {
        "id": "uGTP4eJdB0Ya"
      }
    },
    {
      "cell_type": "code",
      "source": [
        "X = vectorizer.fit_transform(text)"
      ],
      "metadata": {
        "id": "bP1R_KMoCi2g"
      },
      "execution_count": 10,
      "outputs": []
    },
    {
      "cell_type": "markdown",
      "source": [
        "Funcția aplicată mai sus extrage lista de cuvinte din text și calculează de câte ori apare fiecare cuvânt în fiecare propoziție. Putem vedea lista de cuvinte folosind altă funcție din instanță:"
      ],
      "metadata": {
        "id": "do2dfaBtFV0o"
      }
    },
    {
      "cell_type": "code",
      "source": [
        "vectorizer.get_feature_names_out()"
      ],
      "metadata": {
        "colab": {
          "base_uri": "https://localhost:8080/"
        },
        "id": "ADV-Mh37E9DF",
        "outputId": "04c5c669-0a81-4721-ac56-2a1ff7d7621a"
      },
      "execution_count": 11,
      "outputs": [
        {
          "output_type": "execute_result",
          "data": {
            "text/plain": [
              "array(['computer', 'eps', 'graph', 'human', 'interface', 'minors',\n",
              "       'response', 'survey', 'system', 'time', 'trees', 'user'],\n",
              "      dtype=object)"
            ]
          },
          "metadata": {},
          "execution_count": 11
        }
      ]
    },
    {
      "cell_type": "markdown",
      "source": [
        "X este lista noastră de valori. Fiecare linie reprezintă o propoziție, fiecare coloană reprezintă un cuvânt, iar valorile aflate la intersecție ne spun de câte ori apare fiecare cuvânt în fiecare propoziție."
      ],
      "metadata": {
        "id": "YoLQlpAkCjCU"
      }
    },
    {
      "cell_type": "code",
      "source": [
        "X.toarray()"
      ],
      "metadata": {
        "colab": {
          "base_uri": "https://localhost:8080/"
        },
        "id": "BbtXiGHUEqJC",
        "outputId": "ac946455-c4b1-41cb-d02c-ba884ed30930"
      },
      "execution_count": 12,
      "outputs": [
        {
          "output_type": "execute_result",
          "data": {
            "text/plain": [
              "array([[1, 0, 0, 1, 1, 0, 0, 0, 0, 0, 0, 0],\n",
              "       [1, 0, 0, 0, 0, 0, 1, 1, 1, 1, 0, 1],\n",
              "       [0, 1, 0, 0, 1, 0, 0, 0, 1, 0, 0, 1],\n",
              "       [0, 1, 0, 1, 0, 0, 0, 0, 2, 0, 0, 0],\n",
              "       [0, 0, 0, 0, 0, 0, 1, 0, 0, 1, 0, 1],\n",
              "       [0, 0, 0, 0, 0, 0, 0, 0, 0, 0, 1, 0],\n",
              "       [0, 0, 1, 0, 0, 0, 0, 0, 0, 0, 1, 0],\n",
              "       [0, 0, 1, 0, 0, 1, 0, 0, 0, 0, 1, 0],\n",
              "       [0, 0, 1, 0, 0, 1, 0, 1, 0, 0, 0, 0]])"
            ]
          },
          "metadata": {},
          "execution_count": 12
        }
      ]
    },
    {
      "cell_type": "markdown",
      "source": [
        "Gata! Acum știm vectorizarea fiecărei propoziții folosind Bag of Words!"
      ],
      "metadata": {
        "id": "8-D0Tn4DFzmC"
      }
    },
    {
      "cell_type": "markdown",
      "source": [
        "### EXERCIȚIU:\n",
        "\n"
      ],
      "metadata": {
        "id": "9_roanSbF6rO"
      }
    },
    {
      "cell_type": "markdown",
      "source": [
        "La fel ca majoritatea claselor, CountVectorizer are o serie de parametri\n",
        "\n",
        "\n",
        " cu valori predefinite. Printre acestea se numără și _binary=False_, care numără de câte ori apar cuvintele. Setează valoarea acestui parametru ca _True_, antrenează din nou pe textul dat și afișează noua listă de valori (X)."
      ],
      "metadata": {
        "id": "9-i_TTioGIRF"
      }
    },
    {
      "cell_type": "code",
      "source": [
        "from sklearn.feature_extraction.text import CountVectorizer\n",
        "\n",
        "# TODO: creează o instanță cu parametrul binary setat True\n",
        "vectorizer = CountVectorizer(binary=True)\n",
        "# TODO: antrenează din nou pe text\n",
        "X = vectorizer.fit_transform(text)\n",
        "# TODO: afișează noua listă de valori (X)\n",
        "X.toarray()"
      ],
      "metadata": {
        "id": "4ylruyKlGGmP",
        "colab": {
          "base_uri": "https://localhost:8080/"
        },
        "outputId": "5409e802-2d62-4446-bc92-fcb599de1410"
      },
      "execution_count": 13,
      "outputs": [
        {
          "output_type": "execute_result",
          "data": {
            "text/plain": [
              "array([[1, 0, 0, 1, 1, 0, 0, 0, 0, 0, 0, 0],\n",
              "       [1, 0, 0, 0, 0, 0, 1, 1, 1, 1, 0, 1],\n",
              "       [0, 1, 0, 0, 1, 0, 0, 0, 1, 0, 0, 1],\n",
              "       [0, 1, 0, 1, 0, 0, 0, 0, 1, 0, 0, 0],\n",
              "       [0, 0, 0, 0, 0, 0, 1, 0, 0, 1, 0, 1],\n",
              "       [0, 0, 0, 0, 0, 0, 0, 0, 0, 0, 1, 0],\n",
              "       [0, 0, 1, 0, 0, 0, 0, 0, 0, 0, 1, 0],\n",
              "       [0, 0, 1, 0, 0, 1, 0, 0, 0, 0, 1, 0],\n",
              "       [0, 0, 1, 0, 0, 1, 0, 1, 0, 0, 0, 0]])"
            ]
          },
          "metadata": {},
          "execution_count": 13
        }
      ]
    },
    {
      "cell_type": "markdown",
      "source": [
        "## TFIDF\n",
        "\n",
        "TFIDF este antrenat și apelat exact la fel ca Bag of Words, doar că funcția pe care o folosim se numește _TfidfVectorizer_. Creează lista de valori numerice corespunzătoare textului folosind metoda TFIDF din cadrul clasei de mai jos:"
      ],
      "metadata": {
        "id": "SErBvUe7aP7v"
      }
    },
    {
      "cell_type": "code",
      "source": [
        "from sklearn.feature_extraction.text import TfidfVectorizer\n",
        "\n",
        "# TODO: La fel ca mai sus, creează o instanță a clasei TfidfVectorizer, antreneaz-o pe text și afișează lista de valori X\n",
        "vectorizer = TfidfVectorizer()\n",
        "# TODO: antrenează din nou pe text\n",
        "X = vectorizer.fit_transform(text)\n",
        "# TODO: afișează noua listă de valori (X)\n",
        "X.toarray()"
      ],
      "metadata": {
        "colab": {
          "base_uri": "https://localhost:8080/"
        },
        "id": "7KNFe_r9aPTA",
        "outputId": "76dca847-0ae1-423c-8cbc-41309bc25aa4"
      },
      "execution_count": 14,
      "outputs": [
        {
          "output_type": "execute_result",
          "data": {
            "text/plain": [
              "array([[0.57735027, 0.        , 0.        , 0.57735027, 0.57735027,\n",
              "        0.        , 0.        , 0.        , 0.        , 0.        ,\n",
              "        0.        , 0.        ],\n",
              "       [0.42593857, 0.        , 0.        , 0.        , 0.        ,\n",
              "        0.        , 0.42593857, 0.42593857, 0.37034129, 0.42593857,\n",
              "        0.        , 0.37034129],\n",
              "       [0.        , 0.53361154, 0.        , 0.        , 0.53361154,\n",
              "        0.        , 0.        , 0.        , 0.46395983, 0.        ,\n",
              "        0.        , 0.46395983],\n",
              "       [0.        , 0.44614767, 0.        , 0.44614767, 0.        ,\n",
              "        0.        , 0.        , 0.        , 0.77582505, 0.        ,\n",
              "        0.        , 0.        ],\n",
              "       [0.        , 0.        , 0.        , 0.        , 0.        ,\n",
              "        0.        , 0.6023681 , 0.        , 0.        , 0.6023681 ,\n",
              "        0.        , 0.52374168],\n",
              "       [0.        , 0.        , 0.        , 0.        , 0.        ,\n",
              "        0.        , 0.        , 0.        , 0.        , 0.        ,\n",
              "        1.        , 0.        ],\n",
              "       [0.        , 0.        , 0.70710678, 0.        , 0.        ,\n",
              "        0.        , 0.        , 0.        , 0.        , 0.        ,\n",
              "        0.70710678, 0.        ],\n",
              "       [0.        , 0.        , 0.54859115, 0.        , 0.        ,\n",
              "        0.63094809, 0.        , 0.        , 0.        , 0.        ,\n",
              "        0.54859115, 0.        ],\n",
              "       [0.        , 0.        , 0.52374168, 0.        , 0.        ,\n",
              "        0.6023681 , 0.        , 0.6023681 , 0.        , 0.        ,\n",
              "        0.        , 0.        ]])"
            ]
          },
          "metadata": {},
          "execution_count": 14
        }
      ]
    },
    {
      "cell_type": "markdown",
      "source": [
        "## Word2Vec\n",
        "\n",
        "Word2Vec funcționează puțin diferit. Îl vom antrena pe lista de cuvinte (în loc de propoziții) și îi spunem să ia în considerare cuvintele care apar minim o dată:"
      ],
      "metadata": {
        "id": "z2x8GG6haW7u"
      }
    },
    {
      "cell_type": "code",
      "source": [
        "from gensim.models import Word2Vec\n",
        "\n",
        "vectorizer = Word2Vec(common_texts, min_count=1).wv"
      ],
      "metadata": {
        "id": "lK8fWrimIjeh"
      },
      "execution_count": 15,
      "outputs": []
    },
    {
      "cell_type": "markdown",
      "source": [
        "Putem vedea lista de cuvinte folosind următoarea funcție:"
      ],
      "metadata": {
        "id": "_862fHDlJ3bs"
      }
    },
    {
      "cell_type": "code",
      "source": [
        "vectorizer.key_to_index"
      ],
      "metadata": {
        "colab": {
          "base_uri": "https://localhost:8080/"
        },
        "id": "Ay0NKjqaI6T9",
        "outputId": "5df0cc7a-0e22-4e06-db64-73b24481e0cd"
      },
      "execution_count": 16,
      "outputs": [
        {
          "output_type": "execute_result",
          "data": {
            "text/plain": [
              "{'system': 0,\n",
              " 'graph': 1,\n",
              " 'trees': 2,\n",
              " 'user': 3,\n",
              " 'minors': 4,\n",
              " 'eps': 5,\n",
              " 'time': 6,\n",
              " 'response': 7,\n",
              " 'survey': 8,\n",
              " 'computer': 9,\n",
              " 'interface': 10,\n",
              " 'human': 11}"
            ]
          },
          "metadata": {},
          "execution_count": 16
        }
      ]
    },
    {
      "cell_type": "markdown",
      "source": [
        "Noua noastră instanță vine cu o serie de funcții noi pe care le putem descoperi. Folosește funcția _most_similar(word)_ pentru a vedea cuvintele care seamănă cel mai mult cu cuvântul _system_:"
      ],
      "metadata": {
        "id": "2JDO0s5iKMoE"
      }
    },
    {
      "cell_type": "code",
      "source": [
        "# TODO: găsește cuvintele cele mai apropiate de \"system\"\n",
        "vectorizer.most_similar(\"system\")"
      ],
      "metadata": {
        "id": "KstuGaPeapWO",
        "colab": {
          "base_uri": "https://localhost:8080/"
        },
        "outputId": "b1e02131-9d9e-430d-dc4d-6d292b4898ed"
      },
      "execution_count": 17,
      "outputs": [
        {
          "output_type": "execute_result",
          "data": {
            "text/plain": [
              "[('computer', 0.21617141366004944),\n",
              " ('response', 0.09293832629919052),\n",
              " ('human', 0.07963486760854721),\n",
              " ('interface', 0.06288161128759384),\n",
              " ('survey', 0.0270574688911438),\n",
              " ('time', 0.016134677454829216),\n",
              " ('graph', -0.01083916611969471),\n",
              " ('minors', -0.027750369161367416),\n",
              " ('trees', -0.05234673246741295),\n",
              " ('eps', -0.059876296669244766)]"
            ]
          },
          "metadata": {},
          "execution_count": 17
        }
      ]
    },
    {
      "cell_type": "markdown",
      "source": [
        "Folosește funcția _similarity(word1, word2)_ pentru a vedea cât de apropiate sunt cuvintele _human_ și _computer_:"
      ],
      "metadata": {
        "id": "QiUhEidcK8Fs"
      }
    },
    {
      "cell_type": "code",
      "source": [
        "# TODO: găsește similaritatea între \"human\" și \"computer\"\n",
        "vectorizer.similarity(\"human\", \"computer\")"
      ],
      "metadata": {
        "id": "loQCmdJMap5S",
        "colab": {
          "base_uri": "https://localhost:8080/"
        },
        "outputId": "893f29aa-f3ea-499d-b60f-d200e57f64c6"
      },
      "execution_count": 18,
      "outputs": [
        {
          "output_type": "execute_result",
          "data": {
            "text/plain": [
              "-0.0742427"
            ]
          },
          "metadata": {},
          "execution_count": 18
        }
      ]
    },
    {
      "cell_type": "markdown",
      "source": [
        "Ce se întâmplă dacă încercăm să calculăm _king + woman - man_ ?"
      ],
      "metadata": {
        "id": "R32-lcScLYcK"
      }
    },
    {
      "cell_type": "code",
      "source": [
        "vectorizer.most_similar(positive=[\"king\", \"woman\"], negative=[\"man\"])"
      ],
      "metadata": {
        "id": "RYeUYNunax23",
        "colab": {
          "base_uri": "https://localhost:8080/",
          "height": 287
        },
        "outputId": "cec5aa9f-1fa5-4621-cbc6-b5a7c040465a"
      },
      "execution_count": 19,
      "outputs": [
        {
          "output_type": "error",
          "ename": "KeyError",
          "evalue": "\"Key 'king' not present in vocabulary\"",
          "traceback": [
            "\u001b[0;31m---------------------------------------------------------------------------\u001b[0m",
            "\u001b[0;31mKeyError\u001b[0m                                  Traceback (most recent call last)",
            "\u001b[0;32m<ipython-input-19-019e0603ca6e>\u001b[0m in \u001b[0;36m<cell line: 1>\u001b[0;34m()\u001b[0m\n\u001b[0;32m----> 1\u001b[0;31m \u001b[0mvectorizer\u001b[0m\u001b[0;34m.\u001b[0m\u001b[0mmost_similar\u001b[0m\u001b[0;34m(\u001b[0m\u001b[0mpositive\u001b[0m\u001b[0;34m=\u001b[0m\u001b[0;34m[\u001b[0m\u001b[0;34m\"king\"\u001b[0m\u001b[0;34m,\u001b[0m \u001b[0;34m\"woman\"\u001b[0m\u001b[0;34m]\u001b[0m\u001b[0;34m,\u001b[0m \u001b[0mnegative\u001b[0m\u001b[0;34m=\u001b[0m\u001b[0;34m[\u001b[0m\u001b[0;34m\"man\"\u001b[0m\u001b[0;34m]\u001b[0m\u001b[0;34m)\u001b[0m\u001b[0;34m\u001b[0m\u001b[0;34m\u001b[0m\u001b[0m\n\u001b[0m",
            "\u001b[0;32m/usr/local/lib/python3.10/dist-packages/gensim/models/keyedvectors.py\u001b[0m in \u001b[0;36mmost_similar\u001b[0;34m(self, positive, negative, topn, clip_start, clip_end, restrict_vocab, indexer)\u001b[0m\n\u001b[1;32m    839\u001b[0m \u001b[0;34m\u001b[0m\u001b[0m\n\u001b[1;32m    840\u001b[0m         \u001b[0;31m# compute the weighted average of all keys\u001b[0m\u001b[0;34m\u001b[0m\u001b[0;34m\u001b[0m\u001b[0m\n\u001b[0;32m--> 841\u001b[0;31m         \u001b[0mmean\u001b[0m \u001b[0;34m=\u001b[0m \u001b[0mself\u001b[0m\u001b[0;34m.\u001b[0m\u001b[0mget_mean_vector\u001b[0m\u001b[0;34m(\u001b[0m\u001b[0mkeys\u001b[0m\u001b[0;34m,\u001b[0m \u001b[0mweight\u001b[0m\u001b[0;34m,\u001b[0m \u001b[0mpre_normalize\u001b[0m\u001b[0;34m=\u001b[0m\u001b[0;32mTrue\u001b[0m\u001b[0;34m,\u001b[0m \u001b[0mpost_normalize\u001b[0m\u001b[0;34m=\u001b[0m\u001b[0;32mTrue\u001b[0m\u001b[0;34m,\u001b[0m \u001b[0mignore_missing\u001b[0m\u001b[0;34m=\u001b[0m\u001b[0;32mFalse\u001b[0m\u001b[0;34m)\u001b[0m\u001b[0;34m\u001b[0m\u001b[0;34m\u001b[0m\u001b[0m\n\u001b[0m\u001b[1;32m    842\u001b[0m         all_keys = [\n\u001b[1;32m    843\u001b[0m             \u001b[0mself\u001b[0m\u001b[0;34m.\u001b[0m\u001b[0mget_index\u001b[0m\u001b[0;34m(\u001b[0m\u001b[0mkey\u001b[0m\u001b[0;34m)\u001b[0m \u001b[0;32mfor\u001b[0m \u001b[0mkey\u001b[0m \u001b[0;32min\u001b[0m \u001b[0mkeys\u001b[0m \u001b[0;32mif\u001b[0m \u001b[0misinstance\u001b[0m\u001b[0;34m(\u001b[0m\u001b[0mkey\u001b[0m\u001b[0;34m,\u001b[0m \u001b[0m_KEY_TYPES\u001b[0m\u001b[0;34m)\u001b[0m \u001b[0;32mand\u001b[0m \u001b[0mself\u001b[0m\u001b[0;34m.\u001b[0m\u001b[0mhas_index_for\u001b[0m\u001b[0;34m(\u001b[0m\u001b[0mkey\u001b[0m\u001b[0;34m)\u001b[0m\u001b[0;34m\u001b[0m\u001b[0;34m\u001b[0m\u001b[0m\n",
            "\u001b[0;32m/usr/local/lib/python3.10/dist-packages/gensim/models/keyedvectors.py\u001b[0m in \u001b[0;36mget_mean_vector\u001b[0;34m(self, keys, weights, pre_normalize, post_normalize, ignore_missing)\u001b[0m\n\u001b[1;32m    516\u001b[0m                 \u001b[0mtotal_weight\u001b[0m \u001b[0;34m+=\u001b[0m \u001b[0mabs\u001b[0m\u001b[0;34m(\u001b[0m\u001b[0mweights\u001b[0m\u001b[0;34m[\u001b[0m\u001b[0midx\u001b[0m\u001b[0;34m]\u001b[0m\u001b[0;34m)\u001b[0m\u001b[0;34m\u001b[0m\u001b[0;34m\u001b[0m\u001b[0m\n\u001b[1;32m    517\u001b[0m             \u001b[0;32melif\u001b[0m \u001b[0;32mnot\u001b[0m \u001b[0mignore_missing\u001b[0m\u001b[0;34m:\u001b[0m\u001b[0;34m\u001b[0m\u001b[0;34m\u001b[0m\u001b[0m\n\u001b[0;32m--> 518\u001b[0;31m                 \u001b[0;32mraise\u001b[0m \u001b[0mKeyError\u001b[0m\u001b[0;34m(\u001b[0m\u001b[0;34mf\"Key '{key}' not present in vocabulary\"\u001b[0m\u001b[0;34m)\u001b[0m\u001b[0;34m\u001b[0m\u001b[0;34m\u001b[0m\u001b[0m\n\u001b[0m\u001b[1;32m    519\u001b[0m \u001b[0;34m\u001b[0m\u001b[0m\n\u001b[1;32m    520\u001b[0m         \u001b[0;32mif\u001b[0m \u001b[0mtotal_weight\u001b[0m \u001b[0;34m>\u001b[0m \u001b[0;36m0\u001b[0m\u001b[0;34m:\u001b[0m\u001b[0;34m\u001b[0m\u001b[0;34m\u001b[0m\u001b[0m\n",
            "\u001b[0;31mKeyError\u001b[0m: \"Key 'king' not present in vocabulary\""
          ]
        }
      ]
    },
    {
      "cell_type": "markdown",
      "source": [
        "Modelul nostru nu a învățat aceste cuvinte, așa că nu știe ce să facă cu ele. Încearcă să calculezi diferența între alte 3 cuvinte din lista de cuvinte știute:"
      ],
      "metadata": {
        "id": "1YwnAzxCLm10"
      }
    },
    {
      "cell_type": "code",
      "source": [
        "# TODO\n",
        "vectorizer.most_similar(positive=[\"human\", \"computer\"], negative=[\"system\"])"
      ],
      "metadata": {
        "id": "a3NITmGVa3rT",
        "colab": {
          "base_uri": "https://localhost:8080/"
        },
        "outputId": "7c82f3be-6cdf-4539-d293-f56f946f914c"
      },
      "execution_count": 20,
      "outputs": [
        {
          "output_type": "execute_result",
          "data": {
            "text/plain": [
              "[('trees', 0.1278732568025589),\n",
              " ('eps', 0.08094543218612671),\n",
              " ('interface', 0.04106268286705017),\n",
              " ('survey', 0.036815572530031204),\n",
              " ('user', -0.010777249000966549),\n",
              " ('response', -0.049844831228256226),\n",
              " ('graph', -0.05095354840159416),\n",
              " ('time', -0.0651964545249939),\n",
              " ('minors', -0.10069900006055832)]"
            ]
          },
          "metadata": {},
          "execution_count": 20
        }
      ]
    },
    {
      "cell_type": "markdown",
      "source": [
        "## BONUS"
      ],
      "metadata": {
        "id": "RSHYVd2chjjK"
      }
    },
    {
      "cell_type": "markdown",
      "source": [
        "Pentru următoarele exerciții vom folosi un set de date care conține 3.000.000 de cuvinte sub forma unei serii de știri extrase de pe Google. Întrucât setul este foarte mare și ar dura extrem de mult timp să îl antrenăm singuri, vom downloada modelul direct antrenat ca să ne uităm cum funcționează. Ne așteptăm ca downloadul să dureze minim 10 minute, deci aveți grijă când rulați această celulă:"
      ],
      "metadata": {
        "id": "MLOcFNf1ewu1"
      }
    },
    {
      "cell_type": "code",
      "source": [
        "import gensim.downloader as api\n",
        "\n",
        "model = api.load(\"word2vec-google-news-300\")"
      ],
      "metadata": {
        "colab": {
          "base_uri": "https://localhost:8080/"
        },
        "id": "S5LAkwBJafdl",
        "outputId": "4d5a8f51-1f41-42e4-b858-ef9980515e69"
      },
      "execution_count": 21,
      "outputs": [
        {
          "output_type": "stream",
          "name": "stdout",
          "text": [
            "[==================================================] 100.0% 1662.8/1662.8MB downloaded\n"
          ]
        }
      ]
    },
    {
      "cell_type": "code",
      "source": [
        "model.most_similar('system')"
      ],
      "metadata": {
        "id": "AEtcroBuTdzA",
        "colab": {
          "base_uri": "https://localhost:8080/"
        },
        "outputId": "a0aa1b4d-360f-45dd-8924-fbf9e2be7bd4"
      },
      "execution_count": 22,
      "outputs": [
        {
          "output_type": "execute_result",
          "data": {
            "text/plain": [
              "[('systems', 0.7227916717529297),\n",
              " ('sytem', 0.7129376530647278),\n",
              " ('sys_tem', 0.5871982574462891),\n",
              " ('System', 0.5275423526763916),\n",
              " ('mechanism', 0.5058810114860535),\n",
              " ('sysem', 0.5027822852134705),\n",
              " ('systen', 0.49969804286956787),\n",
              " ('system.The', 0.49599188566207886),\n",
              " ('sytems', 0.4949610233306885),\n",
              " ('computerized', 0.47604817152023315)]"
            ]
          },
          "metadata": {},
          "execution_count": 22
        }
      ]
    },
    {
      "cell_type": "code",
      "source": [
        "model.similarity('human', 'computer')"
      ],
      "metadata": {
        "id": "bV4_PiS-UANM",
        "colab": {
          "base_uri": "https://localhost:8080/"
        },
        "outputId": "d26de90b-47fc-49ff-b947-e8aa3ff38310"
      },
      "execution_count": 23,
      "outputs": [
        {
          "output_type": "execute_result",
          "data": {
            "text/plain": [
              "0.18846479"
            ]
          },
          "metadata": {},
          "execution_count": 23
        }
      ]
    },
    {
      "cell_type": "code",
      "source": [
        "model.most_similar(positive=[\"king\", \"woman\"], negative=[\"man\"])"
      ],
      "metadata": {
        "id": "vf3ihweJUGh7",
        "colab": {
          "base_uri": "https://localhost:8080/"
        },
        "outputId": "a769604f-34d7-44e1-d2ab-d41d7a7fb909"
      },
      "execution_count": 24,
      "outputs": [
        {
          "output_type": "execute_result",
          "data": {
            "text/plain": [
              "[('queen', 0.7118193507194519),\n",
              " ('monarch', 0.6189674139022827),\n",
              " ('princess', 0.5902431011199951),\n",
              " ('crown_prince', 0.5499460697174072),\n",
              " ('prince', 0.5377321839332581),\n",
              " ('kings', 0.5236844420433044),\n",
              " ('Queen_Consort', 0.5235945582389832),\n",
              " ('queens', 0.5181134343147278),\n",
              " ('sultan', 0.5098593831062317),\n",
              " ('monarchy', 0.5087411999702454)]"
            ]
          },
          "metadata": {},
          "execution_count": 24
        }
      ]
    },
    {
      "cell_type": "code",
      "source": [
        "model.most_similar(positive=['human'], negative=['computer', 'time'])"
      ],
      "metadata": {
        "id": "-FucrYuOUQVO",
        "colab": {
          "base_uri": "https://localhost:8080/"
        },
        "outputId": "dfba8e2d-ac6f-425c-edce-768fb57bb0af"
      },
      "execution_count": 25,
      "outputs": [
        {
          "output_type": "execute_result",
          "data": {
            "text/plain": [
              "[('non_toxigenic_C.', 0.3579254448413849),\n",
              " ('allotransplantation', 0.3464714586734772),\n",
              " ('speciesism', 0.3178519308567047),\n",
              " ('Atlantic_salmon_Salmo', 0.29254624247550964),\n",
              " ('nonhuman_animals', 0.2893490791320801),\n",
              " ('Sus_scrofa', 0.28739631175994873),\n",
              " ('K.Kahne_###-###', 0.2862851619720459),\n",
              " ('Neurotrophic_Factor', 0.2850346565246582),\n",
              " ('palmitoleic_acid', 0.28359511494636536),\n",
              " ('unbridled_individualism', 0.2827090919017792)]"
            ]
          },
          "metadata": {},
          "execution_count": 25
        }
      ]
    },
    {
      "cell_type": "markdown",
      "source": [
        "Vom instala modulul _wikipedia_ pentru a putea accesa paginile direct din cod:"
      ],
      "metadata": {
        "id": "mM-LSfLZMYPy"
      }
    },
    {
      "cell_type": "code",
      "source": [
        "! pip install wikipedia"
      ],
      "metadata": {
        "id": "ClB4fP-bniCy",
        "colab": {
          "base_uri": "https://localhost:8080/"
        },
        "outputId": "df428dd3-9b81-4d93-d6cd-040e06e2d215"
      },
      "execution_count": 26,
      "outputs": [
        {
          "output_type": "stream",
          "name": "stdout",
          "text": [
            "Collecting wikipedia\n",
            "  Downloading wikipedia-1.4.0.tar.gz (27 kB)\n",
            "  Preparing metadata (setup.py) ... \u001b[?25l\u001b[?25hdone\n",
            "Requirement already satisfied: beautifulsoup4 in /usr/local/lib/python3.10/dist-packages (from wikipedia) (4.12.3)\n",
            "Requirement already satisfied: requests<3.0.0,>=2.0.0 in /usr/local/lib/python3.10/dist-packages (from wikipedia) (2.31.0)\n",
            "Requirement already satisfied: charset-normalizer<4,>=2 in /usr/local/lib/python3.10/dist-packages (from requests<3.0.0,>=2.0.0->wikipedia) (3.3.2)\n",
            "Requirement already satisfied: idna<4,>=2.5 in /usr/local/lib/python3.10/dist-packages (from requests<3.0.0,>=2.0.0->wikipedia) (3.6)\n",
            "Requirement already satisfied: urllib3<3,>=1.21.1 in /usr/local/lib/python3.10/dist-packages (from requests<3.0.0,>=2.0.0->wikipedia) (2.0.7)\n",
            "Requirement already satisfied: certifi>=2017.4.17 in /usr/local/lib/python3.10/dist-packages (from requests<3.0.0,>=2.0.0->wikipedia) (2024.2.2)\n",
            "Requirement already satisfied: soupsieve>1.2 in /usr/local/lib/python3.10/dist-packages (from beautifulsoup4->wikipedia) (2.5)\n",
            "Building wheels for collected packages: wikipedia\n",
            "  Building wheel for wikipedia (setup.py) ... \u001b[?25l\u001b[?25hdone\n",
            "  Created wheel for wikipedia: filename=wikipedia-1.4.0-py3-none-any.whl size=11680 sha256=9f750bcf936db970e0f2f06fd203378246c04e12d47bd617799022094f2b9912\n",
            "  Stored in directory: /root/.cache/pip/wheels/5e/b6/c5/93f3dec388ae76edc830cb42901bb0232504dfc0df02fc50de\n",
            "Successfully built wikipedia\n",
            "Installing collected packages: wikipedia\n",
            "Successfully installed wikipedia-1.4.0\n"
          ]
        }
      ]
    },
    {
      "cell_type": "markdown",
      "source": [
        "1. Descarcă un articol de pe wikipedia. Înlocuiește _page\\_title_ cu un titlu de pagină de pe wikipedia:"
      ],
      "metadata": {
        "id": "ZPnKnhbchtLQ"
      }
    },
    {
      "cell_type": "code",
      "source": [
        "import wikipedia\n",
        "\n",
        "page_title = \"Evil Queen\" # TODO: Alege un titlu de pe wikipedia\n",
        "page = wikipedia.page(page_title, auto_suggest=False)\n",
        "\n",
        "print(page.content)"
      ],
      "metadata": {
        "id": "FM3ziGq8hxA2",
        "colab": {
          "base_uri": "https://localhost:8080/"
        },
        "outputId": "1d1b3481-42aa-485f-c986-3f1ba8136d97"
      },
      "execution_count": 28,
      "outputs": [
        {
          "output_type": "stream",
          "name": "stdout",
          "text": [
            "The Evil Queen (German: böse Königin), also called the Wicked Queen or just the Queen, is a fictional character and the main antagonist of \"Snow White\", a German fairy tale recorded by the Brothers Grimm; similar stories exist worldwide. Other versions of the Queen appear in subsequent adaptations and continuations of the fairy tale, including novels and films. One particularly notable version is Disney's depiction, sometimes known as Queen Grimhilde. The character has also become an archetype that inspired unrelated works.\n",
            "The Evil Queen is Snow White's vindictive wicked stepmother who is obsessed with being \"the fairest in the land\". The beautiful young princess Snow White evokes the Queen's sense of envy, so the Queen designs a number of plans to kill Snow White through the use of witchcraft. A driving force in the story is the Queen's Magic Mirror. In the traditional resolution of the story, the Queen is grotesquely executed for her crimes. The tale is meant as a lesson for young children warning them against the dangers of narcissism, pride, and hubris.\n",
            "In some retellings of the fairy tale, the Queen has been re-imagined or portrayed more sympathetically, such as being morally conflicted or suffering from madness instead of being simply evil. In some of the revisionist stories she serves as the protagonist and has even been portrayed as an antihero or a tragic hero.\n",
            "\n",
            "\n",
            "== The Brothers Grimm tale ==\n",
            "The Evil Queen is a very beautiful but proud and arrogant woman who marries the King after the death of his first wife, the mother of Snow White. The Evil Queen owns a magic mirror, which one day informs her that her young stepdaughter Princess Snow White has surpassed her in beauty.\n",
            "After deciding to eliminate Snow White, the Queen orders her Huntsman to take the princess into the forest and murder her. The Queen tells him to bring back Snow White's lungs and liver, as proof that the princess is dead. However, the Huntsman takes pity on Snow White, and instead, brings the Queen the lungs and liver of a wild boar. The Queen has the cook prepare the lungs and liver and she eats what she believes are Snow White's organs.\n",
            "\n",
            "While questioning her mirror again, the Queen discovers that Snow White has survived and has found sanctuary with the Seven Dwarfs. Intending to kill Snow White herself, she takes the disguise of an old peddler woman. She visits the dwarfs' house and sells Snow White laces for a corset that she laces too tight in an attempt to suffocate the girl. When that fails, the Queen returns as a comb seller and tricks Snow White into using a poisoned comb. When the comb, too, fails to kill Snow White, the Queen again visits Snow White disguised as a farmer's wife and gives Snow White a poisoned apple.\n",
            "Snow White is awakened by the Prince from another kingdom, and they invite the Queen to their wedding. Although fearing what will happen, her own jealousy drives her to attend. There she is forced to put on red-hot iron shoes and \"dance\" until she drops dead.\n",
            "\n",
            "\n",
            "=== Alternative fates ===\n",
            "In the classic ending of \"Snow White\", the Evil Queen is put to death by torture. This is often considered to be too dark and potentially horrifying for children in modern society. In fact, already the first English translation of the Grimms' tale, written by Edgar Taylor in 1823, has the Queen choke on her own envy upon the sight of Snow White alive. Another early (1871) English translation by Susannah Mary Paull \"replaces the Queen's death by cruel physical punishment with death by self-inflicted pain and self-destruction\" when it was her own shoes that became hot due to her anger. Other alternative endings can have the Queen just instantly drop dead \"of anger\" at the wedding or in front of her mirror upon learning about it, die from her own designs going awry (such as from touching her own poisoned rose) or by nature (such as falling into quicksands while crossing a swamp on her way back to the castle after poisoning Snow White), be killed by the dwarfs during a chase, be destroyed by her own mirror, run away into the forest never to be seen again, or simply being banished from the kingdom forever. As Sara Maitland wrote, \"we do not tell this part of the story any more; we say it is too cruel and will break children's soft hearts.\"Therefore, many (especially modern) revisions of the fairy tale often change the gruesome classic ending in order to make it seem less violent. In some versions instead of dying, the Queen is merely prevented from committing further wrongdoings. Fawzia Gilani-Williams' Snow White: An Islamic Tale, for instance, has Snow White forgive her evil witch stepmother entirely, making her repent and redeem herself, as part of the book's religious lessons for children. However, in the same 2014 nationwide UK poll that considered the Queen from \"Snow White\" the scariest fairy tale character of all time (as cited by 32.21% of responding adults), around two-thirds opined that today's stories are too \"sanitised\" for children. Anthony Burgess commented in 1983: \"Reading that, how seriously can we take it? It is fairy-tale violence, which is not like real mugging, terrorism and Argentinean torture.\"Sheldon Cashdan, Professor of Psychology at the University of Massachusetts, argues that, in accordance to the logic of fairy tales, the Queen could not be allowed to flee or merely be locked up in a dungeon or exiled, as the story portrayed her \"as a thoroughly despicable creature who deserves the worst conceivable punishment.\" In his opinion, fairy tale narrative also demands that \"if the witch is to die — and remain dead — she must die in a way that makes her return highly unlikely,\" and so \"the reader needs to know that the death of the witch is thorough and complete, even if it means exposing young readers to acts of violence that are extreme by contemporary standards.\" Conversely, writers such as Oliver Madox Hueffer have expressed sympathy for the queen, or, like psychology professor Sharna Olfman, remove the violence when reading the story to children while also acknowledging that verbal storytelling lacks \"graphic visual imagery\".\n",
            "\n",
            "\n",
            "=== Origins and evolution ===\n",
            "In the first edition of the Brothers Grimm story, from their 1812 collection Kinder- und Hausmärchen (\"Children's and Household Tales\"), the Queen is Snow White's biological mother, and in the beginning sits sewing at an open window when she pricks her finger with her needle, causing three drops of red blood to drip onto the white snow on the black ebony windowsill. She then wishes to have a daughter with skin as white as snow, lips as red as blood, and hair as black as ebony, later giving birth to Snow White. In subsequent versions after 1819, this was changed; text was added to include that Snow White's mother died and the king remarried. Jack Zipes said that the change was made because the Grimms \"held motherhood sacred.\" According to Cashdan, a \"cardinal rule of fairy tales\" mandates that the \"heroes and heroines are allowed to kill witches, sorceresses, even stepmothers, but never their own mothers.\" Zipes' 2014 collection of Grimm fairy tales in their original forms reinstated the Queen as Snow White's mother.However, the wicked stepmother was not unknown in German versions predating the Brothers Grimm's collection. In 1782, Johann Karl August Musäus published a literary fairy tale titled \"Richilde\" which reimagined the folktale from the villain's point of view. The main character is Richilde, arrogant Countess of Brabant, who as a child received the gift of a magic mirror invented by her godfather Albertus Magnus. Many elements of the Grimms' Snow White appear in this story, including the wicked stepmother, the magic mirror, the poisoned apple, and the punishment of dancing in red-hot shoes.Hueffer noted that the wicked stepmother with magical powers threatening a young princess is a recurring theme in fairy tales; one similar character is the witch-queen in \"The Wild Swans\" as told by Hans Christian Andersen. According to Kenny Klein, the enchantress Ceridwen of the Welsh mythology was \"the quintissential evil stepmother, the origin of that character in the two tales of Snow White and Cinderella.\"Equivalents of the Evil Queen can be found in Snow White-like tales from around the world. In the Scottish Gaelic oral tale \"Gold-Tree and Silver-Tree\", the Queen is named Silver-Tree and is the heroine's biological mother. A talking trout takes the place of the Queen's mirror and the huntsman figure is the princess' own father. The villain's relationship with Snow White can also vary, with versions from around the world sometimes featuring wicked sisters or sisters-in-law, or a wicked mother of the prince. One earlier variation of the tale was Giambattista Basile's \"The Young Slave\" (1634), where the heroine's mother is unintentionally involved in putting her to sleep, and she is awoken by her cruel and jealous aunt who treats her like a slave.\n",
            "The Queen's tricks also vary from place to place. In Italy, she uses a toxic comb, a contaminated cake, or a suffocating braid. In France, a local tale features a poisoned tomato. The Queen's demands of proof from the huntsman (often her lover in non-Grimm versions) also vary: a bottle of blood stoppered with the princess' toe in Spain, or the princess' intestines and blood-soaked shirt in Italy.Rosemary Ellen Guiley suggests that the Queen of the Brothers Grimm tale uses an apple because it recalls the temptation of Eve; this creation story from the Bible led the Christian Church to view apples as a symbol of sin. Many people feared that apples could carry evil spirits, and that witches used them for poisoning. Robert G. Brown of Duke University also makes a connection with the story of Adam and Eve, seeing the Queen as a representation of the archetype of Lilith. The symbol of an apple has long had traditional associations with enchantment and witchcraft in some European cultures, as in case of Morgan le Fay's Avalon (\"Isle of the Apples\").\n",
            "Diane Purkiss attributes the Queen's fiery death in the Brothers Grimm tale to \"the folkbelief that burning a witch's body ended her power, a belief which subtended (but did not cause) the practice of burning witches in Germany.\" The American Folklore Society noted that the use of iron shoes \"recalls folk practices of destroying a witch through the magic agency of iron.\"\n",
            "\n",
            "\n",
            "=== Interpretations ===\n",
            "According to some scholars such as Roger Sale and University of Hawaii professor Cristina Bacchilega, the story has ageist undertones vilifying the older woman character, with her envy of Snow White's beauty. Terri Windling wrote that the Queen is \"a woman whose power is derived from her beauty; it is this, the tale implies, that provides her place in the castle's hierarchy. If the king’s attention turns from his wife to another, what power is left to an aging woman? Witchcraft, the tale answers. Potions, poisons, and self-protection.\"Sandra Gilbert and Susan Gubar regard Snow White and her mother/stepmother as two female stereotypes, the angel and the monster. The fact that the Queen was Snow White's biological mother in the first version of the Grimms' story has led several psychoanalytic critics to interpret \"Snow White\" as a story about repressed Oedipus complex, or about Snow White's Electra complex and sexual rivalry with the Queen. According to Bruno Bettelheim, the story's main motif is \"the clash of sexual innocence and sexual desire\": \"whereas Snow White achieves inner harmony, her stepmother fails to do so. Unable to integrate the social and the antisocial aspects of human nature, she remains enslaved to her desires and gets caught up in an Oedipal competition with her daughter from which she cannot extricate herself. This imbalance between her contradictory drives proves to be her undoing.\" Cashdan interprets the Queen's motives as \"fear that the king will find Snow White more appealing than her.\" This struggle is so dominating the psychological landscape of the tale, that Gilber and Gubar even proposed renaming the story \"Snow White and Her Wicked Stepmother\". Harold Bloom opined that the three \"temptations\" all \"testify to a mutual sexual attraction between Snow White and her stepmother.\"\n",
            "Cashdan proposes that the evil queen \"embodies narcissism, and the young princess, with whom readers identify, embodies parts of the child struggling to overcome this tendency. Vanquishing the queen represents a triumph of positive forces in the self over vain impulses.\" As such, \"the death of the witch signals a victory of virtue over vice, a sign that positive forces in the self have prevailed.\" In addition, \"the active involvement of heroine in the witch's demise communicates to readers that they must take an active role in overcoming their own errant tendencies.\" Similarly, psychologist Betsy Cohen wrote about the perceived symbolism of the act: \"In order to avoid becoming a wicked queen herself, Snow White needs to separate from and kill off this destructive force inside of her.\" In the words of Bettelheim, \"only the death of the jealous queen (the elimination of all outer and inner turbulence) can make for a happy world.\"Regarding the manner of the Queen's execution, scholars such as Cashdan, Sheldon Donald Haase, and John Hanson Saunders argue from psychological and storytelling viewpoints that the Queen's punishment fits her crimes, gives closure to the reader and shows good triumphing over evil. Jo Eldridge Carney, Professor of English at The College of New Jersey, wrote: \"Again, the fairy tale's system of punishment is horrific but apt: a woman so actively consumed with seeking affirmation from others and with violently undoing her rival is forced to enact her own physical destruction as a public spectacle.\" Likewise, Mary Ayers of the Stanford University School of Medicine wrote that the red-hot shoes symbolise that the Queen was \"subjected to the effects of her own inflamed, searing hot envy and hatred.\" It was also noted that this ending echoes the fairy tale of \"The Red Shoes\", which similarly \"warns of the danger of attachment to appearances.\"\n",
            "\n",
            "\n",
            "== Adaptations and other media ==\n",
            "The character was portrayed in a variety of ways in the subsequent adaptations and reimaginings of the classic fairy tale. According to Lana Berkowitz of the Houston Chronicle, \"Today stereotypes of the evil queen and innocent Snow White often are challenged. Rewrites may show the queen is reacting to extenuating circumstances.\" Scott Meslow, of The Atlantic, noted that \"Disney's decision to throw out the Grimms's appropriately grim ending—which sentences the evil queen to dance in heated iron shoes until her death—has meant that ending is all but forgotten.\"\n",
            "\n",
            "\n",
            "=== Disney's Snow White franchise ===\n",
            "In Disney's seminal 1937 animated film Snow White and the Seven Dwarfs, the Queen, usually known as the Evil Queen or the Wicked Queen, is the villain. This version of the character was sometimes referred to as Queen Grimhilde in Disney publications from the 1930s, and was originally voiced by Lucille La Verne. The film's Queen, in the form of an old witch, falls to her death after poisoning Snow White. In the film, similar to the Brothers Grimm story, the Queen is cold, cruel, and extremely vain, and obsessively desires to remain the \"fairest in the land\". She becomes madly envious of the beauty of her stepdaughter, as well as the attention of the Prince from another land; such a love triangle element is one of Disney's changes to the story. This leads her to plot the death of Snow White and ultimately on the path to her own demise, which in the film is indirectly caused by the Seven Dwarfs. The film's version of the Queen character uses her dark magic powers to actually transform herself into an old woman instead of just taking a disguise like in the Grimms' story; this appearance of hers is commonly referred to as the Wicked Witch or alternatively as the Old Hag or just the Witch. The film's version of the Queen was created by Walt Disney and Joe Grant, and originally animated by Art Babbit and voiced by Lucille La Verne. Inspiration for her design came from several sources, including the characters of Queen Hash-a-Motep from She and Princess Kriemhild from Die Nibelungen, as well as actresses such as Joan Crawford and Gale Sondergaard.This interpretation of the classic fairy tale character has been very well received by film critics and the general public, often being considered one of Disney's most iconic and menacing villains. Besides the film, the Evil Queen has made numerous appearances in Disney productions and attractions, including works not related to the tale of Snow White, such as Fantasmic!, The Kingdom Keepers and Kingdom Hearts Birth by Sleep, sometimes appearing alongside Maleficent from Sleeping Beauty. The Queen has since been voiced by Eleanor Audley, Louise Chamis and Susanne Blakeslee, and was portrayed live by Anne Francine, Jane Curtin and Olivia Wilde, among others. Her surviving and aged version was portrayed by Kathy Najimy in Descendants. The film's version of the Queen has also become a popular archetype that influenced a number of artists and non-Disney works. \n",
            "The 1989 film Happily Ever After, introduces the late Queen's brother, the evil wizard Lord Maliss, who arrives in the kingdom to avenge his sister on those responsible for her demise: Snow White and Prince Charming. Due to pressure by Disney lawyers, the Queen herself does not appear in person and is only shown via a portrait and a bust statue, and the film begins with her monster minions actually partying and celebrating her death. Her brother is eventually destroyed when he is transformed into a dragon and turned into a stone statue.Gal Gadot is set to portray the character in Snow White, Disney's own 2025 live-action film reimagining of their 1937 animated classic.\n",
            "\n",
            "\n",
            "=== Film ===\n",
            "In 1961, the Queen appears in Snow White and the Three Stooges, portrayed by Patricia Medina.\n",
            "In the 1962 Mexican children's film, Tom Thumb and Little Red Riding Hood, Snow White's stepmother appears as the Queen Witch (Reina Bruja, renamed as the Queen of Badness in the English dub), the mistress of all evil and the queen of all monsters in the world, played by Ofelia Guilmáin.\n",
            "In the 1962 East German film Snow White, the Queen is played by Marianne Christina Schilling. The story is a faithful retelling until the Queen arrives at Snow White's wedding where the Prince offers her a half of a red apple, which she assumes is poisoned. Terrified, the queen flees and is chased out of the country by the Prince.\n",
            "The Wicked Queen is voiced by Melendy Britt in the 1980 Filmation animated television film A Snow White Christmas, a loose sequel set years after the events of the fairy tale in which the Queen returns to life after having been trapped in ice.\n",
            "In the 1981 Slovak television musical Let the Princess Stay with Us, a modern reimagining of the fairy tale devoid of magical motifs, the Queen is represented by the protagonist Katka's biological mother, played by Marie Rottrová.\n",
            "The 1987 American musical film Snow White is one of the nine Cannon Movie Tales fairy tale musicals produced in the 1980s, starring Diana Rigg as the Queen.\n",
            "The 1991 animated film The Magic Riddle combines the story of Snow White with several other fairy tales in which the Queen figure is a widowed stepmother played by Robyn Moore.\n",
            "In the 1997 film Snow White: A Tale of Terror, the character is a noblewoman named Lady Claudia Hoffman, played by Sigourney Weaver in an acclaimed role.\n",
            "In the 2001 television film Snow White: The Fairest of Them All, the character is a self-loathing crone named Elspeth, portrayed by Miranda Richardson. She is a genie, transformed into a beautiful queen by her brother, the Green-Eyed Granter of Wishes. At the climax of the film, the Green-Eyed One turns Elspeth into a withered old crone (played by Karin Konoval) once again and she is throttled to death off-screen by the dwarves whom she had once turn to stone.\n",
            "Nina Hagen portrayed the Queen in the 2004 German comedy parody film 7 Dwarves – Men Alone in the Wood and its 2006 sequel 7 Dwarves: The Forest Is Not Enough. The two live-action films were followed by 2014's animated film The Seventh Dwarf, in which her character was given the name Dellamorta.\n",
            "In the 2005 historical fantasy film The Brothers Grimm, Monica Bellucci plays the villainous character that will inspire the fairy-tale Evil Queen after the Brothers Grimm themselves face her in the film's version of the Napoleonic-era Germany. Known as the Thuringian Queen or the Mirror Queen, many centuries earlier she was an extremely vain wife of the Frankish king Childeric I, obsessed with preserving her youth and beauty and being the fairest in the land by any means necessary, leading her to dabble in black magic.\n",
            "In the 2007 teen comedy film, Sydney White, Sara Paxton plays Rachel Witchburn, the mean leader of the student council and the head of the sorority that Sydney White wants to attend.\n",
            "The Evil Queen, voiced by Susanne Blakeslee, appears in the 2007 animated film Shrek the Third.\n",
            "In the 2009 animated film Happily N'Ever After 2: Snow White—Another Bite @ the Apple, the would-be Queen is called Lady Vain, voiced by Cindy Robinson.\n",
            "In the 2012 medieval fantasy adaptation, Grimm's Snow White, the Queen's name is Gwendolyn, played by Jane March.\n",
            "In the 2012 Spanish silent art film Blancanieves that transplants the story to 1920s Andalusia, Maribel Verdú plays Encarna, the evil stepmother of Carmen Villalta.\n",
            "In the 2012 film Snow White: A Deadly Summer, a modern-day reimagining of the story as a slasher horror film, Maureen McCormick plays Eve, the psychopathic woman who hates her stepdaughter because she wants Snow's father all for herself.\n",
            "In the 2012 comedy fantasy film Mirror Mirror, Julia Roberts plays Queen Clementianna, a vain, insecure woman who married the king and magicked him into a savage beast using a special necklace.\n",
            "In the 2012 film Snow White and the Huntsman, Charlize Theron played the character of Queen Ravenna. Director Rupert Sanders said: \"It was very important that we didn't have a terrible cut-out villain. We had someone who was doing evil things from a fear and weakness. I think it is important that you do sympathize with her to a degree, but also really understand why she is the person she’s become because she wasn't born evil. It was a journey for her to become evil, and I think it was very important to myself and Charlize Theron to play a realistic version of the queen.\" Theron said about the character: \"At first, I didn't really understand why she was evil or losing her mind, but once I understood that it wasn't just the fact that her mortality relied upon finding Snow White, and that knowing that and not being able to do anything and being stuck in a castle. Well, I think that would be maddening for somebody like her. It reminded me a lot of Jack Nicholson's character in The Shining—that idea that you're stuck in this place and you can't escape it, that cabin fever.\" Theron reprised her role in the film's 2016 sequel, The Huntsman: Winter's War.\n",
            "Gina Gershon voiced Queen Regina in the English version of the 2019 Korean animated film Red Shoes and the Seven Dwarfs.\n",
            "\n",
            "\n",
            "=== Television ===\n",
            "One early yet notable animated adaptation was Snow White (1933), a Betty Boop series cartoon short in which the Queen resembles Olive Oyl. Another early American animation, Coal Black and de Sebben Dwarfs (1943), is a controversial World War II propaganda short that reimagines all the story's characters as African-Americans. The \"mean ol' queen\" (voiced by Ruby Dandridge and Danny Webb) of the story, a parody of the Disney character, plots to murder So White out of jealously for the handsome Prince Chawmin, represents food hoarders at the time of war rationing.\n",
            "\n",
            "In the Snow White episode of the 1984 television series Faerie Tale Theatre, the Queen is played by Vanessa Redgrave.\n",
            "In the \"Snow White\" episode of the 1987 anime series Grimm's Fairy Tale Classics, the Queen is voiced by Arlene Banas in the English dub.\n",
            "In the 1987-1988 television series The Charmings, Queen Lillian \"Lily\" White, portrayed by Judy Parfitt, has been thrown into what they thought was a bottomless pit but returns to cast a powerful curse Snow White and her family. This curse banishes them all (including the Queen herself and her Magic Mirror) into the modern world, where they live as the titular Charmings. The Queen is forced to live with her family, while trying to find a way to return herself back to their own world.\n",
            "In the 1994-1995 anime television series The Legend of Snow White, Lady Chrystal (voiced by Mari Yokoo), a woman famed for her beauty and ruler of a small neighbouring kingdom, comes to the Emerald Valley in order to marry King Conrad. As in the fairy tale, she turns out to be an evil and jealous woman who uses the black art of witchcraft to eliminate her rivals and obtain what she desires most: beauty and power.\n",
            "The main villain of the 2000 miniseries The 10th Kingdom is Christine White, more commonly referred to as the Evil Queen and portrayed by Dianne Wiest.In the seven seasons of the 2011–2017 American TV series Once Upon a Time, the Queen, also known as Regina Mills, is portrayed by Lana Parrilla.\n",
            "\n",
            "\n",
            "=== Comics ===\n",
            "In the DC Universe, the Queen of Fables was a scheming, villainous witch who, in her youth, wrought hell on earth until she was trapped in a book by her own stepdaughter, Snow White. Centuries later, she was freed accidentally by Snow White's descendants and has since faced many Justice League superheroes like Superman and Wonder Woman, who the Queen thought was Snow White due to her great beauty.\n",
            "In the long-running Italian erotic comic series Biancaneve (1972-1986), the beautiful but evil witch Queen Naga (later just Naga) is the recurring main antagonist, loosely inspired by the Disney character. She is initially married to Kurt, the king of Kurtlandia and Snow White's father.\n",
            "In Bill Willingham's comic book series Fables (2002-2015), the protagonist Snow White's and Rose Red's witch mother is ordered to kill Snow by the King. She fakes her daughter's death and arranges for her to live with her aunt, a widowed queen of a distant land (Snow's mother helped her to achieve this position). Years later, her aunt who is enraged by the fact that Snow is lovelier than her and decides to kill her herself in a manner similar to the fairy tale (first ordering the hunter and then delivering a poisoned apple).\n",
            "Kazuki Nakashima manga series Lost Seven (2008) features Queen Rose, also known as The Witch of the Mirror, as a former court magician who usurped the throne and killed all members of the royal family except of Snow White, who managed to escape. She also appears to plan to open a portal to the demon realm through a magic mirror, here called Sephiroth Glass and crafted by Snow White's own family. Queen Rose is killed (as is Snow White), but as the castle crumbles she manages to rescue her own biological daughter, Red Rose, who 10 years later becomes the heroine of the series.\n",
            "\n",
            "\n",
            "=== Novels ===\n",
            "Gregory Maguire's historical novel Mirror, Mirror (2003) casts the historical figure Lucrezia Borgia as the wicked stepmother's role. Bianca de Nevada (Snow White) is born as a child of a minor noble Vicente de Nevada in the 15th-century Renaissance Italy. After her father is forced to embark on a quest for a magical apple tree by Cesare Borgia, Bianca is left in the care the beautiful and madly vain Lucrezia who becomes jealous of her lecherous brother Cesare Borgia's interest in the growing child. The seven dwarves are the creators of the quicksilver mirror, which makes Lucrezia increasingly paranoid and insane.\n",
            "In Mette Ivie Harrison's novel Mira, Mirror (2004), the titular Mirra was a young apprentice witch who was enchanted by her older sister and a fellow apprentice Amanda into a magic mirror so Amanda could transform herself into the most beautiful woman in the world. Amanda becomes a Queen, but later mysteriously disappears, while the story of Mirra continues.\n",
            "In Louise Simonson's Snow White and the Seven Robots: A Graphic Novel (2015), the Queen exiles the child genius scientist Snow White \"so she cannot grow up and take the Queen's place as the most intelligent person on the planet.\"\n",
            "In Gail Carson Levine's novel Fairest (2006), Queen Ivi is an insecure 19-year-old new queen of Ayortha, who is assisted by Skulni, the mysterious, evil creature living in Ivi's magic mirror. The cold-hearted and power-hungry Ivi blackmails the 15-year-old protagonist Aza into becoming her singing voice in order to preserve her own reputation, and later plots Aza's death. However, it turns out that Ivi's actions were manipulated by Skulni so that he can take a vacation when Ivi is killed. In the end, Ivi turns away from her evil ways, loses her magically created beauty, and is sent away to a remote castle.\n",
            "In Jim C. Hines's Princesses series (2009-2011) chronicling the adventures of Snow White, Princess Danielle Whiteshore (Cinderella) and former Princess Talia Malak-el-Dahshat (Sleeping Beauty), Snow White's mother, Queen Rose Curtana of Alessandria, was a powerful witch who trained her daughter in magic to later attempt transferring her soul into her daughter's body, but thwarted when Snow White proved to be more capable than she had revealed.\n",
            "P. W. Catanese's novel The Mirror's Tale (Further Tales Adventures) (2010) is a sequel to the fairy tale, taking place in the former castle of Rohesia. Before she went mad became known as the Witch-Queen, Rohesia had been using her magic for healing. Her fate is unclear and mysterious, but her ghost shows up to heal a poisoned character.\n",
            "In the children's book trilogy Half Upon a Time by James Riley (2010-2013), the characters set out to rescue May's grandmother, who they believe is Snow White. She is eventually revealed as the Wicked Queen and the true antagonist of the series.\n",
            "In The Wishing Spell (2012), a children's novel in The Land of Stories series by Chris Colfer, the Evil Queen has been spared by Snow White. She escapes her imprisonment, recovers her magic mirror and reunites with the Huntsman at a remote castle. The Queen desires to complete the Wishing Spell and seeks and sends her new Huntress (the Hunter's daughter) to collect the ingredients.\n",
            "In Marissa Meyer's The Lunar Chronicles (2012-2015), Queen Levana is the main antagonist and the equivalent of the Evil Queen. She is the ruler of the moon, aunt of the protagonist Cinder, and stepmother of Princess Winter. Severely scarred from childhood burns, she either wears a veil or uses her psychic abilities to glamour herself with extreme beauty. Fairest, a prequel novella, focuses on her backstory.\n",
            "Helen Oyeyemi's novel Boy, Snow, Bird (2014) is a reimagination of \"Snow White\" set in 1950s New England. Oyeyemi said she wrote a wicked stepmother story because she \"wanted to rescue the wicked queen from Snow White, because she seemed to find being a villain a bit of a hassle in a lot of ways. She wasn’t very efficient – it took her three tries to kill Snow White, for example. And I had read Barbara Comyns' The Juniper Tree, which is a retelling of the fairy tale from the perspective of the wicked stepmother, as well, so I began to see a way that I could do it for myself.\"\n",
            "Dark Shimmer by Donna Jo Napoli (2015) reimagines \"Snow White\" in medieval Italy, focused on the backstory of the Evil Queen figure. Dolce is an innocent, kind woman who grew up thinking she was hideous. Her mood swings and attempts to murder her beloved stepdaughter are the result of mercury poisoning from making mirrors.\n",
            "Gena Showalter's The Evil Queen (2019), features Everly Morrow, a high school girl obsessed with mirrors who learns that she is prophesied to become the eponymous character in another world of the fairy-tale realm of Enchantia and tries to avert her destiny. The story continues in the Forest of Good and Evil series.\n",
            "\n",
            "\n",
            "=== Short stories ===\n",
            "Robert Coover's satirical erotic short story \"The Dead Queen\" (1973) re-tells the fairy tale from the perspective of the Prince, deeply disappointed with Snow White and her creepy sexual relationship with the dwarves. At the Queen's funeral after her fiery execution, as she is buried in Snow White's former glass coffin, he suddenly realized that the Queen had loved him and had died for him. In desperation, he attempts bring her back to life by kissing her mutilated corpse, but in vain.\n",
            "James Finn Garner included another satirical take on \"Snow White\" in his collection Politically Correct Bedtime Stories (1994) in which the Queen accidentally bonds with Snow White during the apple scene. Forgetting that the apple in question was poisoned, she shares it with Snow White and both fall comatose to the floor. When the dwarfs discover this, they decide to sell Snow White to the Prince so he can have sex with her. However, when they try to move the two women's bodies, they break the spell and the women awaken, angry and disgusted at what they overheard. The Queen then declares that the dwarfs are trespassers, throwing them out of her forest, and she and Snow White later open a spa for women on the same spot.\n",
            "Carmen Boullosa's short story \"Blancanieves\" (1992) explores the concept of female sexuality, focusing on the relationship between the Queen and the forester (the hunter), and the 'love' triangle between the two and Blancanieves (Snow White). In it, the sexually aggressive Queen dominates the forester, who, within his narrative, blames his sexual weakness on the magic potion that he was forced to drink.\n",
            "In Neil Gaiman's short story \"Snow, Glass, Apples\" (1994), the Queen is a tragic hero protagonist who struggles desperately to save the kingdom from her secretly vampiric stepdaughter. At the end of the story, it all turns out to be a recollection by the Queen as she is roasted alive inside an enormous kiln on the orders by Snow White and the Prince. Gaiman's story resembles  the titular story from \"Red as Blood, or Tales from the Sisters Grimmer\" (1983) by Tanith Lee, in which the Witch Queen is trying to stop the real villain, her stepdaughter Bianca, who is actually a vampire.\n",
            "\"Snow Night\", a short story published in Barbara G. Walker's Feminist Fairy Tales (1996), the King's master of the hunt tries to incite jealousy in the Queen towards her stepdaughter after having been rejected by Snow Night. However, the Queen laughs off her magic mirror's answer, claiming that people go through cycles and that it is impossible to challenge the will of nature. The story suggests that the traditional version of the tale was actually invented by the exiled and crazed huntsman, now imprisoned in a distant country. In the preface, Walker wrote: \"Snow White's stepmother seems to have been vilified because (a) she resented being less beautiful than Snow White, and (b) she practiced witchcraft. One might suspect that female beauty was really a larger issue for men than for women, because male sexual response depends to a considerable degree on visual clues. ... A queen who was also a witch would have been a formidable figure, adding political influence to spiritual mana. Snow White's stepmother therefore seems to me a projection of male jealousies. As re-envisioned in this story, she may seem more true to life.\"\n",
            "\"The True Story\", a revisionist short story by Pat Murphy, published in the collection Black Swan, White Raven (1998), tells a story of a queen who sent her daughter away to avoid the incestous advances of her pedophiliac and abusive husband, the King. The princess is cared for by seven witches in the forest, and when the king dies, she is brought back to rule the kingdom in her own right, instead of at the side of a prince.\n",
            "\n",
            "\n",
            "=== Theater and opera ===\n",
            "Marius Petipa and Arseny Koreshchenko's 1903 ballet The Magic Mirror, combing the Brothers Grimm tale with the Russian variant The Tale of the Dead Princess and the Seven Knights features no magic elements. After the evil deeds of the envious Queen (originally played by Marius Petipa's daughter Marie Petipa) against the Princess are exposed and the King threatens her with dungeon, she has attack of insanity, tells all what she ordered done and then falls dead.\n",
            "In Robert Walser's 1904 opera Schneewittchen (and João César Monteiro's 2000 film Branca de Neve), the adolescent, weak Prince has revived Snow White, but instead of marrying her he fell in love with the beautiful Queen. The Prince thinks the villain is the huntsman, who is the Queen's lover, while the King is oblivious of everything. The story centers on the conflict between the Queen and Snow White, and ends when the latter decides to forgive the former and they make a peace at last.\n",
            "In the 1912 play Snow White and the Seven Dwarfs, written by \"Jessie Graham White\" (Winthrop Ames), Queen Brangomar is jealous of Prince Florimond's love of Snow White. Brangomar summons Witch Hex (Hexy), a powerful godmother. In the end, Snow White forgives the Queen and, despite objections from the hunter (Berthold) who wants Brangomar dead, lets her go away unharmed. In the play's 1916 cinematic adaptation, the silent film Snow White, Queen Brangomar (played by Dorothy Cumming) and the Witch are two separate characters, and it is the latter who demands to have the heart of Snow White. Having first disguised herself as a hag to give Snow White a poisoned comb, the Queen later actually changes her sex to turn herself into a pieman in the scenario where the apple is replaced by a pie. In the end, Brangomar is punished by being turned into a peacock. (In another cut, she simply vanishes from the film.)\n",
            "In Howard Barker's play Knowledge and a Girl (The Snow White Case) (2002), the Queen is the protagonist, attempting to resist the patriarchal and misogynistic structure of the kingdom's court through her lewd sexuality. The Queen is infertile and, at first, the impotent and abusive King actually accepts his wife's promiscuity. Snow White envies the Queen's sexual experience and tries to outdo her stepmother's debauchery. Eventually, however, the King decides to get rid of his Queen. In the final scene, when the Queen appears at the marriage of Snow White and is forced to put on red-hot iron shoes, she is determined to defy them by suffering in silence and motionless.\n",
            "\n",
            "\n",
            "== See also ==\n",
            "Black Annis\n",
            "Wicked fairy (Sleeping Beauty)\n",
            "\n",
            "\n",
            "== References ==\n",
            "\n",
            "\n",
            "=== Bibliography ===\n",
            "Smoodin, Eric (2012). BFI Film Classics: Snow White and the Seven Dwarfs. Palgrave Macmillan (on the behalf of the British Film Institute). ISBN 978–1–84457–475–9.Slethaug, Gordon E. (2014). Adaptation Theory and Criticism: Postmodern Literature and Cinema in the USA. Bloomsbury Academic. ISBN 978-1-6235-6028-7.\n",
            "\n",
            "\n",
            "=== Citations ===\n",
            "\n",
            "\n",
            "== External links ==\n",
            " Media related to Queen (Snow White) at Wikimedia Commons\n"
          ]
        }
      ]
    },
    {
      "cell_type": "markdown",
      "source": [
        "2. Descoperă câte cuvinte de pe pagina de wikipedia apar în modelul tău și câte nu."
      ],
      "metadata": {
        "id": "ETw3pflZNH5a"
      }
    },
    {
      "cell_type": "code",
      "source": [
        "import nltk\n",
        "nltk.download('punkt')"
      ],
      "metadata": {
        "id": "jJDGt_4pWIOi",
        "colab": {
          "base_uri": "https://localhost:8080/"
        },
        "outputId": "43c4c840-e246-4dc5-df8c-3535534c4cf3"
      },
      "execution_count": 29,
      "outputs": [
        {
          "output_type": "stream",
          "name": "stderr",
          "text": [
            "[nltk_data] Downloading package punkt to /root/nltk_data...\n",
            "[nltk_data]   Unzipping tokenizers/punkt.zip.\n"
          ]
        },
        {
          "output_type": "execute_result",
          "data": {
            "text/plain": [
              "True"
            ]
          },
          "metadata": {},
          "execution_count": 29
        }
      ]
    },
    {
      "cell_type": "code",
      "source": [
        "# TODO: Cate cuvinte de pe pagina de wiki apar în model și câte nu?\n",
        "from nltk import word_tokenize\n",
        "\n",
        "words = list(set(word_tokenize(page.content.lower())))\n",
        "words[:10]"
      ],
      "metadata": {
        "id": "hMH6kzu8NSs6",
        "colab": {
          "base_uri": "https://localhost:8080/"
        },
        "outputId": "ff64f382-e0a2-48f7-d3ea-48443e71bad3"
      },
      "execution_count": 37,
      "outputs": [
        {
          "output_type": "execute_result",
          "data": {
            "text/plain": [
              "['eleanor',\n",
              " 'banas',\n",
              " 'considerable',\n",
              " 'forester',\n",
              " 'impulses',\n",
              " 'snow',\n",
              " 'whom',\n",
              " 'archetype',\n",
              " 'andalusia',\n",
              " 'uses']"
            ]
          },
          "metadata": {},
          "execution_count": 37
        }
      ]
    },
    {
      "cell_type": "code",
      "source": [
        "lista_cuvinte = list(model.key_to_index.keys())\n",
        "lista_cuvinte[:10]"
      ],
      "metadata": {
        "id": "tRJWtH_oZbb4",
        "colab": {
          "base_uri": "https://localhost:8080/"
        },
        "outputId": "d7003f5c-625b-49b0-8cd3-08d1fa33c1f6"
      },
      "execution_count": 38,
      "outputs": [
        {
          "output_type": "execute_result",
          "data": {
            "text/plain": [
              "['</s>', 'in', 'for', 'that', 'is', 'on', '##', 'The', 'with', 'said']"
            ]
          },
          "metadata": {},
          "execution_count": 38
        }
      ]
    },
    {
      "cell_type": "code",
      "source": [
        "found_words = [word for word in words if word in lista_cuvinte]\n",
        "count = len(found_words)"
      ],
      "metadata": {
        "id": "GhFlMY_VirkN"
      },
      "execution_count": 62,
      "outputs": []
    },
    {
      "cell_type": "code",
      "source": [
        "print(\"Cuvinte din pagina de wiki care apar in model: \", count)\n",
        "print(\"Cuvinte care nu apar: \", len(words) - count)"
      ],
      "metadata": {
        "id": "Jn_lfK0ulMWr",
        "outputId": "988f4f79-9818-4e32-da04-197a0dd01b7b",
        "colab": {
          "base_uri": "https://localhost:8080/"
        }
      },
      "execution_count": 63,
      "outputs": [
        {
          "output_type": "stream",
          "name": "stdout",
          "text": [
            "Cuvinte din pagina de wiki care apar in model:  1650\n",
            "Cuvinte care nu apar:  306\n"
          ]
        }
      ]
    },
    {
      "cell_type": "markdown",
      "source": [
        "3. Determină similaritatea între toate cuvintele de pe pagina de wiki. Afișează top 3 cele mai apropiate perechi de cuvinte și top 3 cele mai diferite."
      ],
      "metadata": {
        "id": "HCsC5DckNfA4"
      }
    },
    {
      "cell_type": "code",
      "source": [
        "# TODO: Determină similaritatea între toate cuvintele din textul de pe wiki\n",
        "similarity = {}\n",
        "for word1 in found_words:\n",
        "  for word2 in found_words:\n",
        "    if word1 == word2 or (word2, word1) in similarity.keys():\n",
        "      continue\n",
        "    similarity[(word1, word2)] = model.similarity(word1, word2)\n",
        "\n",
        "# TODO: Afișează cele mai apropiate 3 perechi de cuvinte din text\n",
        "similarity = dict(sorted(similarity.items(), key=lambda item: item[1]))\n",
        "print(list(similarity.keys())[-3:])\n",
        "\n",
        "# TODO: Afișează cele mai diferite 3 perechi de cuvinte din text\n",
        "print(list(similarity.keys())[:3])"
      ],
      "metadata": {
        "id": "9CirEW9vN2BB",
        "colab": {
          "base_uri": "https://localhost:8080/"
        },
        "outputId": "8e1be9e0-dcd3-4ee3-a1a7-60c89f28645d"
      },
      "execution_count": 65,
      "outputs": [
        {
          "output_type": "stream",
          "name": "stdout",
          "text": [
            "[('seven', 'three'), ('two', 'three'), ('seven', 'nine')]\n",
            "[('e.', 'night'), ('wanted', 'e.'), ('meyer', 'within')]\n"
          ]
        }
      ]
    },
    {
      "cell_type": "markdown",
      "source": [
        "4. Pentru următoarele cuvinte: _user_, _survey_, _system_, _computer_ determină cel mai apropiat cuvânt folosind modelul încărcat pentru exercițiul bonus și modelul antrenat la începutul laboratorului. Observi diferențele?"
      ],
      "metadata": {
        "id": "9yT2NJk-N0Yw"
      }
    },
    {
      "cell_type": "code",
      "source": [
        "print(\"Modelul antrenat de noi | Model preantrenat\")\n",
        "\n",
        "# TODO: Cel mai apropiat cuvânt de \"user\" folosind cele 2 modele\n",
        "print(vectorizer.most_similar(\"user\")[0], model.most_similar(\"user\")[0])\n",
        "\n",
        "# TODO: Cel mai apropiat cuvânt de \"survey\" folosind cele 2 modele\n",
        "print(vectorizer.most_similar(\"survey\")[0], model.most_similar(\"survey\")[0])\n",
        "\n",
        "# TODO: Cel mai apropiat cuvânt de \"system\" folosind cele 2 modele\n",
        "print(vectorizer.most_similar(\"system\")[0], model.most_similar(\"system\")[0])\n",
        "\n",
        "# TODO: Cel mai apropiat cuvânt de \"computer\" folosind cele 2 modele\n",
        "print(vectorizer.most_similar(\"computer\")[0], model.most_similar(\"computer\")[0])"
      ],
      "metadata": {
        "id": "4I-swOk3PMqA",
        "colab": {
          "base_uri": "https://localhost:8080/"
        },
        "outputId": "3397a2c5-5302-4666-e3ea-f616e643375a"
      },
      "execution_count": 68,
      "outputs": [
        {
          "output_type": "stream",
          "name": "stdout",
          "text": [
            "Modelul antrenat de noi | Model preantrenat\n",
            "('eps', 0.13147011399269104) ('users', 0.7195653319358826)\n",
            "('trees', 0.19912061095237732) ('surveys', 0.8096452355384827)\n",
            "('computer', 0.21617141366004944) ('systems', 0.7227916717529297)\n",
            "('system', 0.21617139875888824) ('computers', 0.7979379892349243)\n"
          ]
        }
      ]
    }
  ]
}