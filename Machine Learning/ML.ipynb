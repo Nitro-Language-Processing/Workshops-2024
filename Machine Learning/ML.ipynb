{
 "cells": [
  {
   "cell_type": "code",
   "execution_count": null,
   "id": "b89ea37c-03c2-484b-8bf5-7543dc8746f2",
   "metadata": {},
   "outputs": [],
   "source": [
    "import pandas as pd\n",
    "import matplotlib.pyplot as plt"
   ]
  },
  {
   "cell_type": "code",
   "execution_count": null,
   "id": "bab41031-3c93-4d3d-9f82-b3b638e7d44c",
   "metadata": {},
   "outputs": [],
   "source": [
    "df = pd.read_csv('https://storage.googleapis.com/datasets-3456/loan_train_data.csv')"
   ]
  },
  {
   "cell_type": "code",
   "execution_count": null,
   "id": "1953ac39-1a06-4f1b-8c5a-0ce462f67132",
   "metadata": {},
   "outputs": [],
   "source": [
    "df"
   ]
  },
  {
   "cell_type": "code",
   "execution_count": null,
   "id": "96644df6-5639-433c-98db-6ab1f39d3c80",
   "metadata": {},
   "outputs": [],
   "source": [
    "df['ApplicantIncome']"
   ]
  },
  {
   "cell_type": "code",
   "execution_count": null,
   "id": "ee6419f6-4981-48ea-b010-48d5440fe632",
   "metadata": {
    "scrolled": true
   },
   "outputs": [],
   "source": [
    "df['ApplicantIncome'] * 2 "
   ]
  },
  {
   "cell_type": "code",
   "execution_count": null,
   "id": "c8111922-62cd-4d7b-84fa-ec1052462c15",
   "metadata": {},
   "outputs": [],
   "source": [
    "df['ApplicantIncome'] > 5000"
   ]
  },
  {
   "cell_type": "code",
   "execution_count": null,
   "id": "3c7a3e16-385d-4641-a588-f1b2c89a376e",
   "metadata": {},
   "outputs": [],
   "source": [
    "df['ApplicantIncome'].loc[df['ApplicantIncome'] > 5000]"
   ]
  },
  {
   "cell_type": "code",
   "execution_count": null,
   "id": "58c3318b-0ec4-4f70-9564-f63616376247",
   "metadata": {},
   "outputs": [],
   "source": [
    "df"
   ]
  },
  {
   "cell_type": "code",
   "execution_count": null,
   "id": "3effef68-66c5-4c23-b3c5-c512d0f4da3f",
   "metadata": {},
   "outputs": [],
   "source": [
    "df['Property_Area']"
   ]
  },
  {
   "cell_type": "code",
   "execution_count": null,
   "id": "160673d9-a7cc-4e0f-83ba-7d4a58e5c690",
   "metadata": {},
   "outputs": [],
   "source": [
    "df['Property_Area'].unique()"
   ]
  },
  {
   "cell_type": "code",
   "execution_count": null,
   "id": "e4803bd2-9101-469e-ad5f-1000a0a1a44d",
   "metadata": {},
   "outputs": [],
   "source": [
    "df['Property_Area'].value_counts()"
   ]
  },
  {
   "cell_type": "code",
   "execution_count": null,
   "id": "9381d606-2a61-4935-b5f6-720f566de3bd",
   "metadata": {},
   "outputs": [],
   "source": [
    "plt.bar([0, 1, 2], df['Property_Area'].value_counts())"
   ]
  },
  {
   "cell_type": "code",
   "execution_count": null,
   "id": "c79f69f1-dc15-482c-b47c-ef0c29a5b6ca",
   "metadata": {},
   "outputs": [],
   "source": [
    "df['ApplicantIncome']"
   ]
  },
  {
   "cell_type": "code",
   "execution_count": null,
   "id": "ff8018bc-d357-4e7a-a512-991785566a63",
   "metadata": {},
   "outputs": [],
   "source": [
    "plt.hist(df['ApplicantIncome'], bins=80)"
   ]
  },
  {
   "cell_type": "code",
   "execution_count": null,
   "id": "f6403e40-8eab-4cbc-8313-61f1eff1888f",
   "metadata": {},
   "outputs": [],
   "source": [
    "df['Gender'].unique() # NaN -> Not a Number"
   ]
  },
  {
   "cell_type": "code",
   "execution_count": null,
   "id": "ee0049e2-727c-453b-9040-4b692f9e2230",
   "metadata": {},
   "outputs": [],
   "source": [
    "df['GE'] = 0"
   ]
  },
  {
   "cell_type": "code",
   "execution_count": null,
   "id": "24a655f0-a4bf-44d5-a636-1fc801d0ec66",
   "metadata": {},
   "outputs": [],
   "source": [
    "df"
   ]
  },
  {
   "cell_type": "code",
   "execution_count": null,
   "id": "97b54b6c-2695-4492-ad58-43fff3b25165",
   "metadata": {},
   "outputs": [],
   "source": [
    "df.loc[df['Gender'] == 'Female', 'GE'] = 1\n",
    "df.loc[df['Gender'] == 'Male', 'GE'] = 2"
   ]
  },
  {
   "cell_type": "code",
   "execution_count": null,
   "id": "5818e494-00cd-4912-92b4-a9429731d908",
   "metadata": {},
   "outputs": [],
   "source": [
    "df"
   ]
  },
  {
   "cell_type": "code",
   "execution_count": null,
   "id": "bdbd29c0-f63d-40a7-af7e-bd787398a576",
   "metadata": {},
   "outputs": [],
   "source": [
    "df.drop(columns=['Loan_ID', 'Gender'], inplace=True)"
   ]
  },
  {
   "cell_type": "code",
   "execution_count": null,
   "id": "b353ab98-4fd8-43d4-b4a8-3794ba04ec2f",
   "metadata": {},
   "outputs": [],
   "source": [
    "df"
   ]
  },
  {
   "cell_type": "code",
   "execution_count": null,
   "id": "457857c3-2b4a-4c53-9ee2-f56501bae616",
   "metadata": {},
   "outputs": [],
   "source": [
    "df['Married'].value_counts()"
   ]
  },
  {
   "cell_type": "code",
   "execution_count": null,
   "id": "492b10dd-0aa7-419a-bde1-429de03c9722",
   "metadata": {},
   "outputs": [],
   "source": [
    "df['Married'] = df['Married'].map({'No': 0, 'Yes': 1})"
   ]
  },
  {
   "cell_type": "code",
   "execution_count": null,
   "id": "ed6c6909-eb44-4770-ba32-357b65bca7e4",
   "metadata": {},
   "outputs": [],
   "source": [
    "df"
   ]
  },
  {
   "cell_type": "code",
   "execution_count": null,
   "id": "61774e90-09d4-40f5-af83-9008f1181cde",
   "metadata": {},
   "outputs": [],
   "source": [
    "df['Dependents'].value_counts()"
   ]
  },
  {
   "cell_type": "code",
   "execution_count": null,
   "id": "3fc79e96-d907-4486-8dda-3d015f9f5e6f",
   "metadata": {},
   "outputs": [],
   "source": [
    "df['Dependents'] = df['Dependents'].map({'0': 0, '1': 1, '2': 2, '3+': 3})"
   ]
  },
  {
   "cell_type": "code",
   "execution_count": null,
   "id": "f1c24d13-cfee-4f79-a096-37218c5569cc",
   "metadata": {},
   "outputs": [],
   "source": [
    "df"
   ]
  },
  {
   "cell_type": "code",
   "execution_count": null,
   "id": "6d1f4b85-f0d2-4c3f-921a-9211ee70297f",
   "metadata": {},
   "outputs": [],
   "source": [
    "df['Education'].value_counts()"
   ]
  },
  {
   "cell_type": "code",
   "execution_count": null,
   "id": "0c63f1a0-b429-401b-9124-df5b8201c135",
   "metadata": {},
   "outputs": [],
   "source": [
    "df['Education'] = df['Education'].map({'Graduate': 1, 'Not Graduate':0})"
   ]
  },
  {
   "cell_type": "code",
   "execution_count": null,
   "id": "147a32cd-125c-42d7-a0c7-5ccff47b7664",
   "metadata": {},
   "outputs": [],
   "source": [
    "df"
   ]
  },
  {
   "cell_type": "code",
   "execution_count": null,
   "id": "55b1640f-1f4e-493c-b485-26473c17f815",
   "metadata": {},
   "outputs": [],
   "source": [
    "df['Property_Area'].value_counts()"
   ]
  },
  {
   "cell_type": "code",
   "execution_count": null,
   "id": "e7997516-ea6c-4c4a-9509-599d4695fa6d",
   "metadata": {},
   "outputs": [],
   "source": [
    "df = pd.get_dummies(df, columns=['Property_Area'])"
   ]
  },
  {
   "cell_type": "code",
   "execution_count": null,
   "id": "f504b309-4281-42ce-bb8b-e3cff58bcc3a",
   "metadata": {},
   "outputs": [],
   "source": [
    "df.info()"
   ]
  },
  {
   "cell_type": "code",
   "execution_count": null,
   "id": "69697549-38b2-4203-bad3-39928c1ea725",
   "metadata": {},
   "outputs": [],
   "source": [
    "df['LoanAmount']"
   ]
  },
  {
   "cell_type": "code",
   "execution_count": null,
   "id": "94cc0376-1166-44e4-8129-2ec4fa94f5f8",
   "metadata": {},
   "outputs": [],
   "source": [
    "df['LoanAmount'].mean()"
   ]
  },
  {
   "cell_type": "code",
   "execution_count": null,
   "id": "b5941bc0-a767-4c35-85c4-f4f1531336fc",
   "metadata": {},
   "outputs": [],
   "source": [
    "df['LoanAmount'].isna()"
   ]
  },
  {
   "cell_type": "code",
   "execution_count": null,
   "id": "6558f40b-599d-4b55-9235-15ebb4651439",
   "metadata": {},
   "outputs": [],
   "source": [
    "df.loc[df['LoanAmount'].isna(), 'LoanAmount'] = df['LoanAmount'].mean()"
   ]
  },
  {
   "cell_type": "code",
   "execution_count": null,
   "id": "8f7af119-d80f-4942-a8b9-21465c6d5abd",
   "metadata": {},
   "outputs": [],
   "source": [
    "df.info()"
   ]
  },
  {
   "cell_type": "code",
   "execution_count": null,
   "id": "aaa0d12b-d3f9-4e27-b1bc-81a469864612",
   "metadata": {},
   "outputs": [],
   "source": [
    "df.loc[df['Loan_Amount_Term'].isna(), 'Loan_Amount_Term'] = df['Loan_Amount_Term'].mean()"
   ]
  },
  {
   "cell_type": "code",
   "execution_count": null,
   "id": "d63c8a20-6c8e-4879-9a73-a826003e70e0",
   "metadata": {},
   "outputs": [],
   "source": [
    "df.loc[df['Credit_History'].isna(), 'Credit_History'] = df['Credit_History'].mean()"
   ]
  },
  {
   "cell_type": "code",
   "execution_count": null,
   "id": "a1f9f820-95b1-4127-bd9d-10f46937f460",
   "metadata": {},
   "outputs": [],
   "source": [
    "df"
   ]
  },
  {
   "cell_type": "code",
   "execution_count": null,
   "id": "3917713f-78b3-4074-8328-ad7811f7ae7e",
   "metadata": {},
   "outputs": [],
   "source": [
    "X = df[ [\n",
    "    'Married',\n",
    "    'Dependents',\n",
    "    'Education',\n",
    "    'ApplicantIncome',\n",
    "    'CoapplicantIncome',\n",
    "    'LoanAmount',\n",
    "    'Loan_Amount_Term',\n",
    "    'Credit_History',\n",
    "    'Property_Area_Rural',\n",
    "    'Property_Area_Semiurban',\n",
    "    'Property_Area_Urban',\n",
    "] ]\n",
    "X"
   ]
  },
  {
   "cell_type": "code",
   "execution_count": null,
   "id": "b89b9994-583c-4e2e-9633-016845cf11aa",
   "metadata": {},
   "outputs": [],
   "source": [
    "X.info()"
   ]
  },
  {
   "cell_type": "code",
   "execution_count": null,
   "id": "47cbc95c-17e2-40c7-917c-f9effd0fa51a",
   "metadata": {},
   "outputs": [],
   "source": [
    "X.loc[X['Dependents'].isna(), 'Dependents'] = X['Dependents'].mode()[0]"
   ]
  },
  {
   "cell_type": "code",
   "execution_count": null,
   "id": "cc358a31-c08a-42cd-9e14-32cfa3ad6fd2",
   "metadata": {},
   "outputs": [],
   "source": [
    "X.loc[X['Married'].isna(), 'Married'] = X['Married'].mode()[0]"
   ]
  },
  {
   "cell_type": "code",
   "execution_count": null,
   "id": "465c1369-f583-46fe-bb19-5952d5fb33a4",
   "metadata": {},
   "outputs": [],
   "source": [
    "X.info()"
   ]
  },
  {
   "cell_type": "code",
   "execution_count": null,
   "id": "c982dd48-6e8a-4494-b701-b9735ad70a36",
   "metadata": {
    "scrolled": true
   },
   "outputs": [],
   "source": [
    "y = df['Loan_Status'].map({'Y': 1, 'N': 0})\n",
    "y"
   ]
  },
  {
   "cell_type": "code",
   "execution_count": null,
   "id": "6746ca5c-8795-409d-b27d-11a83b8de6db",
   "metadata": {},
   "outputs": [],
   "source": [
    "from sklearn.neighbors import KNeighborsClassifier"
   ]
  },
  {
   "cell_type": "code",
   "execution_count": null,
   "id": "7cea4463-e91c-4792-8156-f2074b6c3f87",
   "metadata": {},
   "outputs": [],
   "source": [
    "X.info()"
   ]
  },
  {
   "cell_type": "code",
   "execution_count": null,
   "id": "351a1823-180c-4bdf-bc72-b1ff21647dd0",
   "metadata": {},
   "outputs": [],
   "source": [
    "model = KNeighborsClassifier()\n",
    "\n",
    "model.fit(X, y)"
   ]
  },
  {
   "cell_type": "code",
   "execution_count": null,
   "id": "507c8fc9-472f-43f3-8416-9c23ce07993a",
   "metadata": {},
   "outputs": [],
   "source": [
    "model.score(X, y)"
   ]
  },
  {
   "cell_type": "code",
   "execution_count": null,
   "id": "128a22ba-f336-4de5-b792-646fbd2d30bd",
   "metadata": {},
   "outputs": [],
   "source": [
    "from sklearn.ensemble import RandomForestClassifier\n",
    "\n",
    "model = RandomForestClassifier()\n",
    "\n",
    "model.fit(X, y)\n",
    "\n",
    "model.score(X, y)"
   ]
  },
  {
   "cell_type": "code",
   "execution_count": null,
   "id": "facb230b-4f95-40e4-ba97-a381e889a039",
   "metadata": {},
   "outputs": [],
   "source": [
    "from sklearn.model_selection import train_test_split\n",
    "\n",
    "X_train, X_test, y_train, y_test = train_test_split(X, y, test_size=0.15)"
   ]
  },
  {
   "cell_type": "code",
   "execution_count": null,
   "id": "b6dd3ecb-e6b4-4301-865b-06e96782725b",
   "metadata": {},
   "outputs": [],
   "source": [
    "model = RandomForestClassifier()\n",
    "\n",
    "model.fit(X_train, y_train)\n",
    "\n",
    "print(model.score(X_train, y_train))\n",
    "print(model.score(X_test, y_test))"
   ]
  },
  {
   "cell_type": "code",
   "execution_count": null,
   "id": "4da92ef1-3338-4bc5-b2d4-9e46b73b28f6",
   "metadata": {},
   "outputs": [],
   "source": []
  }
 ],
 "metadata": {
  "kernelspec": {
   "display_name": "Python 3 (ipykernel)",
   "language": "python",
   "name": "python3"
  },
  "language_info": {
   "codemirror_mode": {
    "name": "ipython",
    "version": 3
   },
   "file_extension": ".py",
   "mimetype": "text/x-python",
   "name": "python",
   "nbconvert_exporter": "python",
   "pygments_lexer": "ipython3",
   "version": "3.11.7"
  }
 },
 "nbformat": 4,
 "nbformat_minor": 5
}
