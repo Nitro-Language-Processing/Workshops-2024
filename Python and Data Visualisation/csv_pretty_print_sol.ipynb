{
 "cells": [
  {
   "cell_type": "markdown",
   "id": "b1e1d195-10fc-417c-867f-41d0a4c065eb",
   "metadata": {},
   "source": [
    "# CSV Pretty Print"
   ]
  },
  {
   "cell_type": "code",
   "execution_count": 1,
   "id": "2c5ff7a4-5884-4415-8817-2ca0e5614549",
   "metadata": {},
   "outputs": [],
   "source": [
    "csv_1 = 'col_1,col_2,col_3,color\\n1,3456,2134,red\\n123,0,0,green\\n349587,-1,14,red'"
   ]
  },
  {
   "cell_type": "code",
   "execution_count": 2,
   "id": "e7443b92-2c6f-400e-bffe-bd17e8f323b2",
   "metadata": {},
   "outputs": [
    {
     "name": "stdout",
     "output_type": "stream",
     "text": [
      "col_1,col_2,col_3,color\n",
      "1,3456,2134,red\n",
      "123,0,0,green\n",
      "349587,-1,14,red\n"
     ]
    }
   ],
   "source": [
    "print(csv_1)"
   ]
  },
  {
   "cell_type": "code",
   "execution_count": 3,
   "id": "236c2975-e8e1-4533-b31c-934858b8ffbb",
   "metadata": {},
   "outputs": [],
   "source": [
    "csv_2 = 'Sell,List,Living,Rooms,Beds,Baths,Age,Acres,Taxes\\n142,160,28,10,5,3,60,0.28,3167\\n175,180,18,8,4,1,12,0.43,4033\\n129,132,13,6,3,1,41,0.33,1471\\n138,140,17,7,3,1,22,0.46,3204\\n232,240,25,8,4,3,5,2.05,3613\\n135,140,18,7,4,3,9,0.57,3028\\n150,160,20,8,4,3,18,4.00,3131\\n207,225,22,8,4,2,16,2.22,5158\\n271,285,30,10,5,2,30,0.53,5702\\n89,90,10,5,3,1,43,0.30,2054\\n153,157,22,8,3,3,18,0.38,4127\\n87,90,16,7,3,1,50,0.65,1445\\n234,238,25,8,4,2,2,1.61,2087\\n106,116,20,8,4,1,13,0.22,2818\\n175,180,22,8,4,2,15,2.06,3917\\n165,170,17,8,4,2,33,0.46,2220\\n166,170,23,9,4,2,37,0.27,3498\\n136,140,19,7,3,1,22,0.63,3607\\n148,160,17,7,3,2,13,0.36,3648\\n151,153,19,8,4,2,24,0.34,3561'"
   ]
  },
  {
   "cell_type": "markdown",
   "id": "af3ab21d-eac4-4089-b073-fcc4da1e4a05",
   "metadata": {},
   "source": [
    "## 1. Parsare\n",
    "\n",
    "Scrieti o functie care sa parseze un sir de caractere care contine un CSV."
   ]
  },
  {
   "cell_type": "code",
   "execution_count": 4,
   "id": "160e6ba3-3f58-4cb4-848f-e36180f86136",
   "metadata": {},
   "outputs": [],
   "source": [
    "rows = csv_1.split('\\n')\n",
    "tabel = []\n",
    "for row in rows:\n",
    "    tabel.append(row.split(','))"
   ]
  },
  {
   "cell_type": "code",
   "execution_count": 5,
   "id": "f8c647f0-07d7-408a-8328-4b63c400208f",
   "metadata": {},
   "outputs": [
    {
     "data": {
      "text/plain": [
       "[['col_1', 'col_2', 'col_3', 'color'],\n",
       " ['1', '3456', '2134', 'red'],\n",
       " ['123', '0', '0', 'green'],\n",
       " ['349587', '-1', '14', 'red']]"
      ]
     },
     "execution_count": 5,
     "metadata": {},
     "output_type": "execute_result"
    }
   ],
   "source": [
    "tabel"
   ]
  },
  {
   "cell_type": "code",
   "execution_count": 6,
   "id": "e4f8d8b2-72f8-466c-a27e-f258a5cdfd32",
   "metadata": {},
   "outputs": [],
   "source": [
    "def parse_csv(csv_string):\n",
    "    rows = csv_string.split('\\n')\n",
    "    tabel = []\n",
    "    for row in rows:\n",
    "        tabel.append(row.split(','))\n",
    "    return tabel"
   ]
  },
  {
   "cell_type": "markdown",
   "id": "9cea7b26-bcdb-4eb1-978c-e19d33217fe6",
   "metadata": {},
   "source": [
    "Exemplu:"
   ]
  },
  {
   "cell_type": "code",
   "execution_count": 7,
   "id": "da4515b4-3255-4a73-9a35-62135c0d0e60",
   "metadata": {},
   "outputs": [],
   "source": [
    "table_1 = [\n",
    "    ['col_1', 'col_2', 'col_3', 'color'],\n",
    "    ['1', '3456', '2134', 'red'],\n",
    "    ['123', '0', '0', 'green'],\n",
    "    ['349587', '-1', '14', 'red']\n",
    "]"
   ]
  },
  {
   "cell_type": "markdown",
   "id": "0010d07b-8785-4dc0-b434-7c99275c7b9c",
   "metadata": {},
   "source": [
    "**Hint**: `.split()`"
   ]
  },
  {
   "cell_type": "code",
   "execution_count": 8,
   "id": "3234c7b1-fdb2-42ae-9a3f-8ad29d9ddf46",
   "metadata": {},
   "outputs": [
    {
     "data": {
      "text/plain": [
       "[['col_1', 'col_2', 'col_3', 'color'],\n",
       " ['1', '3456', '2134', 'red'],\n",
       " ['123', '0', '0', 'green'],\n",
       " ['349587', '-1', '14', 'red']]"
      ]
     },
     "execution_count": 8,
     "metadata": {},
     "output_type": "execute_result"
    }
   ],
   "source": [
    "parse_csv(csv_1)"
   ]
  },
  {
   "cell_type": "code",
   "execution_count": 9,
   "id": "f61c6c4f-eea6-4fa1-b998-4ac478c3dd22",
   "metadata": {},
   "outputs": [
    {
     "data": {
      "text/plain": [
       "[['Sell', 'List', 'Living', 'Rooms', 'Beds', 'Baths', 'Age', 'Acres', 'Taxes'],\n",
       " ['142', '160', '28', '10', '5', '3', '60', '0.28', '3167'],\n",
       " ['175', '180', '18', '8', '4', '1', '12', '0.43', '4033'],\n",
       " ['129', '132', '13', '6', '3', '1', '41', '0.33', '1471'],\n",
       " ['138', '140', '17', '7', '3', '1', '22', '0.46', '3204'],\n",
       " ['232', '240', '25', '8', '4', '3', '5', '2.05', '3613'],\n",
       " ['135', '140', '18', '7', '4', '3', '9', '0.57', '3028'],\n",
       " ['150', '160', '20', '8', '4', '3', '18', '4.00', '3131'],\n",
       " ['207', '225', '22', '8', '4', '2', '16', '2.22', '5158'],\n",
       " ['271', '285', '30', '10', '5', '2', '30', '0.53', '5702'],\n",
       " ['89', '90', '10', '5', '3', '1', '43', '0.30', '2054'],\n",
       " ['153', '157', '22', '8', '3', '3', '18', '0.38', '4127'],\n",
       " ['87', '90', '16', '7', '3', '1', '50', '0.65', '1445'],\n",
       " ['234', '238', '25', '8', '4', '2', '2', '1.61', '2087'],\n",
       " ['106', '116', '20', '8', '4', '1', '13', '0.22', '2818'],\n",
       " ['175', '180', '22', '8', '4', '2', '15', '2.06', '3917'],\n",
       " ['165', '170', '17', '8', '4', '2', '33', '0.46', '2220'],\n",
       " ['166', '170', '23', '9', '4', '2', '37', '0.27', '3498'],\n",
       " ['136', '140', '19', '7', '3', '1', '22', '0.63', '3607'],\n",
       " ['148', '160', '17', '7', '3', '2', '13', '0.36', '3648'],\n",
       " ['151', '153', '19', '8', '4', '2', '24', '0.34', '3561']]"
      ]
     },
     "execution_count": 9,
     "metadata": {},
     "output_type": "execute_result"
    }
   ],
   "source": [
    "parse_csv(csv_2)"
   ]
  },
  {
   "cell_type": "markdown",
   "id": "b38b94cd-2461-42c6-9e12-fdfcbcf44784",
   "metadata": {},
   "source": [
    "## 2. Afisare\n",
    "\n",
    "Scrieti o functie care afiseaza un CSV intr-un format *human-readable*."
   ]
  },
  {
   "cell_type": "code",
   "execution_count": 10,
   "id": "46e6a694-6c15-47af-ae77-e8ad2029751b",
   "metadata": {},
   "outputs": [],
   "source": [
    "def print_csv(csv_string):\n",
    "    tabel = parse_csv(csv_string)\n",
    "    for cell in tabel[0]:\n",
    "        print(cell.ljust(8), end='')\n",
    "    print()\n",
    "    print('-' * 8 * len(tabel[0]))\n",
    "    for row in tabel[1:]:\n",
    "        for cell in row:\n",
    "            print(cell.ljust(8), end='')\n",
    "        print()"
   ]
  },
  {
   "cell_type": "code",
   "execution_count": 11,
   "id": "02d0998b-a1f8-4fd6-9a03-a88a61762a62",
   "metadata": {},
   "outputs": [
    {
     "name": "stdout",
     "output_type": "stream",
     "text": [
      "col_1   col_2   col_3   color   \n",
      "--------------------------------\n",
      "1       3456    2134    red     \n",
      "123     0       0       green   \n",
      "349587  -1      14      red     \n"
     ]
    }
   ],
   "source": [
    "print_csv(csv_1)"
   ]
  },
  {
   "cell_type": "code",
   "execution_count": 12,
   "id": "12dc3542-b1de-454f-b1c2-cc0b989e7ab4",
   "metadata": {},
   "outputs": [
    {
     "name": "stdout",
     "output_type": "stream",
     "text": [
      "Sell    List    Living  Rooms   Beds    Baths   Age     Acres   Taxes   \n",
      "------------------------------------------------------------------------\n",
      "142     160     28      10      5       3       60      0.28    3167    \n",
      "175     180     18      8       4       1       12      0.43    4033    \n",
      "129     132     13      6       3       1       41      0.33    1471    \n",
      "138     140     17      7       3       1       22      0.46    3204    \n",
      "232     240     25      8       4       3       5       2.05    3613    \n",
      "135     140     18      7       4       3       9       0.57    3028    \n",
      "150     160     20      8       4       3       18      4.00    3131    \n",
      "207     225     22      8       4       2       16      2.22    5158    \n",
      "271     285     30      10      5       2       30      0.53    5702    \n",
      "89      90      10      5       3       1       43      0.30    2054    \n",
      "153     157     22      8       3       3       18      0.38    4127    \n",
      "87      90      16      7       3       1       50      0.65    1445    \n",
      "234     238     25      8       4       2       2       1.61    2087    \n",
      "106     116     20      8       4       1       13      0.22    2818    \n",
      "175     180     22      8       4       2       15      2.06    3917    \n",
      "165     170     17      8       4       2       33      0.46    2220    \n",
      "166     170     23      9       4       2       37      0.27    3498    \n",
      "136     140     19      7       3       1       22      0.63    3607    \n",
      "148     160     17      7       3       2       13      0.36    3648    \n",
      "151     153     19      8       4       2       24      0.34    3561    \n"
     ]
    }
   ],
   "source": [
    "print_csv(csv_2)"
   ]
  },
  {
   "cell_type": "markdown",
   "id": "cc923a69-a65e-41b7-b746-a82965f7d911",
   "metadata": {},
   "source": [
    "Exemplu:\n",
    "\n",
    "```\n",
    "col_1   col_2  col_3  color\n",
    "-----------------------------\n",
    "1       3456   2134   red\n",
    "123     0      0      green\n",
    "349587  -1     14     red\n",
    "```"
   ]
  },
  {
   "cell_type": "markdown",
   "id": "b8dd4c1b-aae4-4f72-9234-64d77d44c4bc",
   "metadata": {},
   "source": [
    "**Note**: Puteti considera o valoare constanta pentru latimea coloanelor (de exemplu 8 caractere).\n",
    "\n",
    "**Hint**: Va puteti folosi de functia scrisa la exercitiul anterior."
   ]
  },
  {
   "cell_type": "markdown",
   "id": "b8bb1bd9-c477-4faa-ac5e-db2136c2e85c",
   "metadata": {},
   "source": [
    "## 3. Bonus Challenge\n",
    "\n",
    "Rescrieti functia de la exercitiul 2 astfel incat latimea coloanelor sa fie determinata dinamic, in functie de latimea celei mai lungi valori.\n",
    "\n",
    "Exemplu fara latime dinamica:\n",
    "\n",
    "```\n",
    "col_1              col_2              col_3              \n",
    "------------------------------------------------------\n",
    "a                  2                  4                  \n",
    "b                  4                  16                \n",
    "really_long_value  8                  32\n",
    "```\n",
    "\n",
    "Exemplu cu latime dinamica:\n",
    "\n",
    "```\n",
    "col_1              col_2  col_3              \n",
    "---------------------------------\n",
    "a                  2      4                  \n",
    "b                  4      16                \n",
    "really_long_value  8      32\n",
    "```"
   ]
  },
  {
   "cell_type": "code",
   "execution_count": 13,
   "id": "1e441502-35cd-4a2b-acc9-b0f967ba6fc6",
   "metadata": {},
   "outputs": [],
   "source": [
    "def print_csv(csv_string):\n",
    "    pass"
   ]
  },
  {
   "cell_type": "code",
   "execution_count": null,
   "id": "58fcd3e4-3cac-4ced-b5ed-5540498c8394",
   "metadata": {},
   "outputs": [],
   "source": []
  }
 ],
 "metadata": {
  "kernelspec": {
   "display_name": "Python 3 (ipykernel)",
   "language": "python",
   "name": "python3"
  },
  "language_info": {
   "codemirror_mode": {
    "name": "ipython",
    "version": 3
   },
   "file_extension": ".py",
   "mimetype": "text/x-python",
   "name": "python",
   "nbconvert_exporter": "python",
   "pygments_lexer": "ipython3",
   "version": "3.11.7"
  },
  "toc-autonumbering": true,
  "vscode": {
   "interpreter": {
    "hash": "d7228b2cc0e7476a93584e7e1e912b2ec970aeeec9283636b1f7a7ce72c064cb"
   }
  }
 },
 "nbformat": 4,
 "nbformat_minor": 5
}
