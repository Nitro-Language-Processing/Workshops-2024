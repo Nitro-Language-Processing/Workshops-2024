{
 "cells": [
  {
   "cell_type": "markdown",
   "id": "3e8a43b5-b1b1-4b5c-8561-6c2d20acbc3d",
   "metadata": {},
   "source": [
    "## Data Types"
   ]
  },
  {
   "cell_type": "code",
   "execution_count": null,
   "id": "d522be57-dd08-41ae-b38f-c9a091f8476a",
   "metadata": {},
   "outputs": [],
   "source": [
    "x = 3"
   ]
  },
  {
   "cell_type": "code",
   "execution_count": null,
   "id": "25e417f3-3355-478e-9962-1e220b888963",
   "metadata": {},
   "outputs": [],
   "source": [
    "type(x)"
   ]
  },
  {
   "cell_type": "code",
   "execution_count": null,
   "id": "b04eddbc-6eaf-401b-bc24-482639fab6df",
   "metadata": {},
   "outputs": [],
   "source": [
    "y = 3.3"
   ]
  },
  {
   "cell_type": "code",
   "execution_count": null,
   "id": "45fe65a5-db86-44af-85ac-b8c4c747da24",
   "metadata": {},
   "outputs": [],
   "source": [
    "type(y)"
   ]
  },
  {
   "cell_type": "code",
   "execution_count": null,
   "id": "826bcb9a-7fdb-4c2f-ae56-17e602b46fa1",
   "metadata": {},
   "outputs": [],
   "source": [
    "b = True"
   ]
  },
  {
   "cell_type": "code",
   "execution_count": null,
   "id": "865e5778-051e-4721-8479-7fc6b3253414",
   "metadata": {},
   "outputs": [],
   "source": [
    "type(b)"
   ]
  },
  {
   "cell_type": "code",
   "execution_count": null,
   "id": "e063f5b0-3475-4568-9bc2-6f47f5175a7a",
   "metadata": {},
   "outputs": [],
   "source": [
    "y"
   ]
  },
  {
   "cell_type": "code",
   "execution_count": null,
   "id": "d954ec14-3dda-429a-a3ab-5b01474f158a",
   "metadata": {},
   "outputs": [],
   "source": [
    "x"
   ]
  },
  {
   "cell_type": "code",
   "execution_count": null,
   "id": "35cf3a07-70af-4835-9c48-99b6abbe1d58",
   "metadata": {},
   "outputs": [],
   "source": [
    "x ** 2"
   ]
  },
  {
   "cell_type": "code",
   "execution_count": null,
   "id": "320d09fc-7e34-4897-8099-5f26c9e586cd",
   "metadata": {},
   "outputs": [],
   "source": [
    "x / 2"
   ]
  },
  {
   "cell_type": "code",
   "execution_count": null,
   "id": "0314f2ad-a11f-4a0a-8399-7e58ddbc5340",
   "metadata": {},
   "outputs": [],
   "source": [
    "x // 2"
   ]
  },
  {
   "cell_type": "code",
   "execution_count": null,
   "id": "6f1e6f22-145e-41fe-85dd-6a444220cdec",
   "metadata": {},
   "outputs": [],
   "source": [
    "True and True"
   ]
  },
  {
   "cell_type": "code",
   "execution_count": null,
   "id": "c803a3a2-91c8-436f-87da-2b8adddde7e7",
   "metadata": {},
   "outputs": [],
   "source": [
    "True or False"
   ]
  },
  {
   "cell_type": "markdown",
   "id": "4fb9685d-3404-4cef-a8c5-32216be33805",
   "metadata": {},
   "source": [
    "## Data Structures"
   ]
  },
  {
   "cell_type": "markdown",
   "id": "c609ede8-2f27-4a54-8be5-3fa43f1d1558",
   "metadata": {},
   "source": [
    "### Liste"
   ]
  },
  {
   "cell_type": "code",
   "execution_count": null,
   "id": "e2cd52b1-c5a2-4614-bd48-6cc8b2d10be9",
   "metadata": {},
   "outputs": [],
   "source": [
    "l = [10, 11, 12, 13, 14, 15, 16]"
   ]
  },
  {
   "cell_type": "markdown",
   "id": "e5e1f4fe-7b65-4dd9-a99b-4e3836409a5c",
   "metadata": {},
   "source": [
    "#### Accesare"
   ]
  },
  {
   "cell_type": "code",
   "execution_count": null,
   "id": "f6a75c60-29e0-4740-9670-913ec785bdba",
   "metadata": {},
   "outputs": [],
   "source": [
    "l[0]"
   ]
  },
  {
   "cell_type": "code",
   "execution_count": null,
   "id": "00728562-ae95-47c4-9345-91c8b2a1e2fd",
   "metadata": {},
   "outputs": [],
   "source": [
    "l[-1]"
   ]
  },
  {
   "cell_type": "code",
   "execution_count": null,
   "id": "9611a2b8-257e-41f1-9542-42858f0d2f02",
   "metadata": {},
   "outputs": [],
   "source": [
    "l[-2]"
   ]
  },
  {
   "cell_type": "code",
   "execution_count": null,
   "id": "98368a75-a89b-40bf-994c-92d6a2b00e86",
   "metadata": {},
   "outputs": [],
   "source": [
    "l[1]"
   ]
  },
  {
   "cell_type": "code",
   "execution_count": null,
   "id": "efd17c96-dd91-4901-b1e6-886728b763c8",
   "metadata": {},
   "outputs": [],
   "source": [
    "l[3]"
   ]
  },
  {
   "cell_type": "code",
   "execution_count": null,
   "id": "57e4683f-2d5f-4453-8266-1653a304874b",
   "metadata": {},
   "outputs": [],
   "source": [
    "l[1:4] "
   ]
  },
  {
   "cell_type": "code",
   "execution_count": null,
   "id": "6a7e21be-4f59-4da8-9606-3389c0932a5d",
   "metadata": {},
   "outputs": [],
   "source": [
    "l"
   ]
  },
  {
   "cell_type": "code",
   "execution_count": null,
   "id": "78f0a6e0-d840-4294-a7ac-5749d812fbd3",
   "metadata": {},
   "outputs": [],
   "source": [
    "l[2:6]"
   ]
  },
  {
   "cell_type": "code",
   "execution_count": null,
   "id": "58280072-5b73-46dc-ac76-5b05e0d9242e",
   "metadata": {},
   "outputs": [],
   "source": [
    "l[:5]"
   ]
  },
  {
   "cell_type": "code",
   "execution_count": null,
   "id": "deffc91c-f94d-46dc-9f34-5d482e87627e",
   "metadata": {},
   "outputs": [],
   "source": [
    "l[-5:]"
   ]
  },
  {
   "cell_type": "code",
   "execution_count": null,
   "id": "a72b9aa7-dee6-4c5a-8b18-5d0fa1d0b76d",
   "metadata": {},
   "outputs": [],
   "source": [
    "l[1:6:2]"
   ]
  },
  {
   "cell_type": "code",
   "execution_count": null,
   "id": "bcecafae-3b69-4902-8683-0ef727ebedb7",
   "metadata": {},
   "outputs": [],
   "source": [
    "l[::-1]"
   ]
  },
  {
   "cell_type": "code",
   "execution_count": null,
   "id": "e5cd32f7-db85-41fc-bb4c-93d9f70a7d83",
   "metadata": {},
   "outputs": [],
   "source": [
    "l[5:1]"
   ]
  },
  {
   "cell_type": "markdown",
   "id": "176faa04-99d2-4d3e-bb3d-bbfd760ef6d1",
   "metadata": {},
   "source": [
    "#### Inserare"
   ]
  },
  {
   "cell_type": "code",
   "execution_count": null,
   "id": "e6b9a024-aeeb-46e8-b0fc-afc981692509",
   "metadata": {},
   "outputs": [],
   "source": [
    "l = [10, 11, 12, 13]"
   ]
  },
  {
   "cell_type": "code",
   "execution_count": null,
   "id": "1c31b098-bfe1-434c-8c2f-8a9582581d79",
   "metadata": {},
   "outputs": [],
   "source": [
    "l.append(100)"
   ]
  },
  {
   "cell_type": "code",
   "execution_count": null,
   "id": "b0bffaa6-16df-4db3-a501-2fb5a83f150b",
   "metadata": {},
   "outputs": [],
   "source": [
    "l"
   ]
  },
  {
   "cell_type": "code",
   "execution_count": null,
   "id": "81be5ac8-aded-4ede-92c3-fea801e0ede8",
   "metadata": {},
   "outputs": [],
   "source": [
    "l.insert(2, 200)"
   ]
  },
  {
   "cell_type": "code",
   "execution_count": null,
   "id": "8d9988b3-ec72-46c7-94ce-d313fba55b90",
   "metadata": {},
   "outputs": [],
   "source": [
    "l"
   ]
  },
  {
   "cell_type": "markdown",
   "id": "eb2bb975-7bca-4f83-9217-dd610a0b70e2",
   "metadata": {},
   "source": [
    "#### Modificare"
   ]
  },
  {
   "cell_type": "code",
   "execution_count": null,
   "id": "555f3337-4b5f-4896-b58f-bb6d3c619dc2",
   "metadata": {},
   "outputs": [],
   "source": [
    "l[0] = 111"
   ]
  },
  {
   "cell_type": "code",
   "execution_count": null,
   "id": "f0aa21d9-1275-40a0-9241-5191d8546c1c",
   "metadata": {},
   "outputs": [],
   "source": [
    "l"
   ]
  },
  {
   "cell_type": "code",
   "execution_count": null,
   "id": "23402c1f-e0d6-42f5-915e-53bbc83810bc",
   "metadata": {},
   "outputs": [],
   "source": [
    "l = [1, 2, 3]\n",
    "l"
   ]
  },
  {
   "cell_type": "code",
   "execution_count": null,
   "id": "70e219bf-0d64-4ead-9fde-4c94aaf892ae",
   "metadata": {},
   "outputs": [],
   "source": [
    "l2 = l"
   ]
  },
  {
   "cell_type": "code",
   "execution_count": null,
   "id": "d9bb4c7e-1151-42b8-a89a-9cf32f2e51c1",
   "metadata": {},
   "outputs": [],
   "source": [
    "l2[0] = 100"
   ]
  },
  {
   "cell_type": "code",
   "execution_count": null,
   "id": "4b7bb8e8-f886-4eb4-b7b7-f16a0f5bfcb0",
   "metadata": {},
   "outputs": [],
   "source": [
    "l2"
   ]
  },
  {
   "cell_type": "code",
   "execution_count": null,
   "id": "87b00d31-4369-43c7-86d2-6715426526f2",
   "metadata": {},
   "outputs": [],
   "source": [
    "l"
   ]
  },
  {
   "cell_type": "code",
   "execution_count": null,
   "id": "4a9f45bf-6c8c-4eef-87e9-3b03bd639d4f",
   "metadata": {},
   "outputs": [],
   "source": [
    "l2 = l[:]\n",
    "\n",
    "l2[0] = 111"
   ]
  },
  {
   "cell_type": "code",
   "execution_count": null,
   "id": "63099a58-9719-4300-ad6b-d5c69d473f58",
   "metadata": {},
   "outputs": [],
   "source": [
    "l"
   ]
  },
  {
   "cell_type": "code",
   "execution_count": null,
   "id": "565d17ac-f679-4890-b0d3-fa9a29048a07",
   "metadata": {},
   "outputs": [],
   "source": [
    "l2"
   ]
  },
  {
   "cell_type": "markdown",
   "id": "1c8fe4d0-247e-4a8d-be18-a7a61ee3eabf",
   "metadata": {},
   "source": [
    "#### Eliminare"
   ]
  },
  {
   "cell_type": "code",
   "execution_count": null,
   "id": "ad2a11a1-a75d-4341-b38e-5a366f539f4a",
   "metadata": {},
   "outputs": [],
   "source": [
    "l = [1, 2, 3]"
   ]
  },
  {
   "cell_type": "code",
   "execution_count": null,
   "id": "197433f8-bb72-40a8-a3e7-b76b977d8899",
   "metadata": {},
   "outputs": [],
   "source": [
    "l.pop()"
   ]
  },
  {
   "cell_type": "code",
   "execution_count": null,
   "id": "69483241-d0ff-47ab-b1ac-55253cf968f5",
   "metadata": {},
   "outputs": [],
   "source": [
    "l"
   ]
  },
  {
   "cell_type": "code",
   "execution_count": null,
   "id": "dff097f1-d6fd-43a7-85ab-6d7d21607ab1",
   "metadata": {},
   "outputs": [],
   "source": [
    "l = [1, 2, 3]"
   ]
  },
  {
   "cell_type": "code",
   "execution_count": null,
   "id": "c21954e2-3636-4620-a5a0-4fc190c1e12b",
   "metadata": {},
   "outputs": [],
   "source": [
    "l.pop(1)"
   ]
  },
  {
   "cell_type": "code",
   "execution_count": null,
   "id": "371fe0c0-e09a-4432-a7cc-9a1d23d594f7",
   "metadata": {},
   "outputs": [],
   "source": [
    "l"
   ]
  },
  {
   "cell_type": "code",
   "execution_count": null,
   "id": "f7f9bef4-ac63-42ae-9920-fb4941f5af66",
   "metadata": {},
   "outputs": [],
   "source": [
    "l = [1, 2, 3, 3.3, True]"
   ]
  },
  {
   "cell_type": "markdown",
   "id": "c0ad5ebd-d2b4-4d46-b0d4-18a1d8981ed9",
   "metadata": {},
   "source": [
    "### Dictionare"
   ]
  },
  {
   "cell_type": "code",
   "execution_count": null,
   "id": "78f61fcf-28d7-4e04-bb2e-bff6722d2cdb",
   "metadata": {},
   "outputs": [],
   "source": [
    "d = {\n",
    "    'user1': 10,\n",
    "    'user2': 20,\n",
    "    'user3': 30\n",
    "}"
   ]
  },
  {
   "cell_type": "markdown",
   "id": "7e91c06f-c9fd-496e-a3ea-4a8e012efa00",
   "metadata": {},
   "source": [
    "#### Accesare"
   ]
  },
  {
   "cell_type": "code",
   "execution_count": null,
   "id": "23632935-6be5-4065-902a-74fa72c3a7be",
   "metadata": {},
   "outputs": [],
   "source": [
    "d['user1']"
   ]
  },
  {
   "cell_type": "code",
   "execution_count": null,
   "id": "c7a58a82-a0b5-4bb8-a117-de25eb971c44",
   "metadata": {},
   "outputs": [],
   "source": [
    "d['user4']"
   ]
  },
  {
   "cell_type": "code",
   "execution_count": null,
   "id": "ebe24139-1c39-4868-9dad-b5fae75608d5",
   "metadata": {},
   "outputs": [],
   "source": [
    "'user4' in d"
   ]
  },
  {
   "cell_type": "markdown",
   "id": "8673771e-5bc8-4f6f-af17-b123e3aae6d4",
   "metadata": {},
   "source": [
    "#### Inserare"
   ]
  },
  {
   "cell_type": "code",
   "execution_count": null,
   "id": "1726dfb3-1172-4eb0-afd6-fd3ae9f20663",
   "metadata": {},
   "outputs": [],
   "source": [
    "d['user4'] = 40"
   ]
  },
  {
   "cell_type": "code",
   "execution_count": null,
   "id": "f8fdce3e-74ca-4f4e-9cb3-21d7ef139d5f",
   "metadata": {},
   "outputs": [],
   "source": [
    "d"
   ]
  },
  {
   "cell_type": "code",
   "execution_count": null,
   "id": "218f7ad0-e1c6-4b98-8896-b280ded12243",
   "metadata": {},
   "outputs": [],
   "source": []
  },
  {
   "cell_type": "markdown",
   "id": "946449d9-ce89-4540-be1e-197af49557d6",
   "metadata": {},
   "source": [
    "#### Modificare"
   ]
  },
  {
   "cell_type": "code",
   "execution_count": null,
   "id": "9ea464b1-1d77-4bbb-8312-2bc550b14fad",
   "metadata": {},
   "outputs": [],
   "source": [
    "d"
   ]
  },
  {
   "cell_type": "code",
   "execution_count": null,
   "id": "f6820990-700a-4d02-abf6-dda69979ebb9",
   "metadata": {},
   "outputs": [],
   "source": [
    "d['user1'] = 100"
   ]
  },
  {
   "cell_type": "code",
   "execution_count": null,
   "id": "e80cb95d-1cf4-41f1-ac7f-8093b66c3bf2",
   "metadata": {},
   "outputs": [],
   "source": [
    "d"
   ]
  },
  {
   "cell_type": "markdown",
   "id": "455c598d-2568-4048-939a-cc1002daf993",
   "metadata": {},
   "source": [
    "#### Eliminare"
   ]
  },
  {
   "cell_type": "code",
   "execution_count": null,
   "id": "abd781b4-fcc4-45af-a058-71289d0fb89b",
   "metadata": {},
   "outputs": [],
   "source": [
    "d.pop('user1')"
   ]
  },
  {
   "cell_type": "code",
   "execution_count": null,
   "id": "720c5467-39a6-4057-b803-ba7b47ebc68f",
   "metadata": {},
   "outputs": [],
   "source": [
    "d"
   ]
  },
  {
   "cell_type": "code",
   "execution_count": null,
   "id": "f4fb8442-846f-4e82-ab25-05c8846ef43a",
   "metadata": {},
   "outputs": [],
   "source": [
    "d.pop('user5')"
   ]
  },
  {
   "cell_type": "code",
   "execution_count": null,
   "id": "b236130e-774e-4265-a7f6-d01b6e1e202f",
   "metadata": {},
   "outputs": [],
   "source": [
    "d.pop('user5', False)"
   ]
  },
  {
   "cell_type": "markdown",
   "id": "ab2a24b0-037b-48d8-9f56-b03278021126",
   "metadata": {},
   "source": [
    "## Functii"
   ]
  },
  {
   "cell_type": "code",
   "execution_count": null,
   "id": "1708c418-679f-4d4f-b7dc-25ab3201a3f9",
   "metadata": {},
   "outputs": [],
   "source": [
    "def compute(x, y):\n",
    "    result = (x ** 2 + y ** 2) ** 0.5\n",
    "\n",
    "    return result"
   ]
  },
  {
   "cell_type": "code",
   "execution_count": null,
   "id": "6e8b75b6-08a3-4d5a-9eb7-ba5df3a8bb56",
   "metadata": {},
   "outputs": [],
   "source": [
    "compute(2, 3)"
   ]
  },
  {
   "cell_type": "code",
   "execution_count": null,
   "id": "2e0fc639-73ea-4302-a88b-3b2a88b69df9",
   "metadata": {},
   "outputs": [],
   "source": [
    "def hello():\n",
    "    print(\"hello\")"
   ]
  },
  {
   "cell_type": "code",
   "execution_count": null,
   "id": "05f9147e-b9c2-43e1-ba9d-7543423ee802",
   "metadata": {},
   "outputs": [],
   "source": [
    "hello()"
   ]
  },
  {
   "cell_type": "code",
   "execution_count": null,
   "id": "e5af5879-2ab9-4f0a-afeb-ea90c080843b",
   "metadata": {},
   "outputs": [],
   "source": [
    "rezultat = hello()"
   ]
  },
  {
   "cell_type": "code",
   "execution_count": null,
   "id": "e2ea9124-d5e1-4e1c-910a-21cbfab39243",
   "metadata": {},
   "outputs": [],
   "source": [
    "type(rezultat)"
   ]
  },
  {
   "cell_type": "code",
   "execution_count": null,
   "id": "7dbc7ece-a2cd-4288-817a-774c4a29879d",
   "metadata": {},
   "outputs": [],
   "source": [
    "b = None"
   ]
  },
  {
   "cell_type": "code",
   "execution_count": null,
   "id": "64313522-2259-492a-a605-9096b8a72884",
   "metadata": {},
   "outputs": [],
   "source": [
    "def hello(loud=False):\n",
    "    if loud:\n",
    "        print(\"HELLO\")\n",
    "    else:\n",
    "        print(\"hello\")"
   ]
  },
  {
   "cell_type": "code",
   "execution_count": null,
   "id": "3208ec9b-1737-4985-9941-ff4852d20dd9",
   "metadata": {},
   "outputs": [],
   "source": [
    "hello(True)"
   ]
  },
  {
   "cell_type": "code",
   "execution_count": null,
   "id": "4d5f02c2-a28d-4b65-b7e2-459d3dc03a2e",
   "metadata": {},
   "outputs": [],
   "source": [
    "a = 5\n",
    "\n",
    "if a < 3:\n",
    "    print('S')\n",
    "elif a < 7:\n",
    "    print('M')\n",
    "else:\n",
    "    print('L')"
   ]
  },
  {
   "cell_type": "code",
   "execution_count": null,
   "id": "a5e016c1-e4f2-4640-a8f3-49cadd008ca2",
   "metadata": {},
   "outputs": [],
   "source": [
    "for i in range(5):\n",
    "    print(i)"
   ]
  },
  {
   "cell_type": "code",
   "execution_count": null,
   "id": "4fe35a9d-264f-4c45-bd2e-73f2e082cfd7",
   "metadata": {},
   "outputs": [],
   "source": [
    "for i in range(2,6):\n",
    "    print(i)"
   ]
  },
  {
   "cell_type": "code",
   "execution_count": null,
   "id": "09de1c93-1787-43c9-a008-45c3f6c72901",
   "metadata": {},
   "outputs": [],
   "source": [
    "for i in range(10, 100, 20):\n",
    "    print(i)"
   ]
  },
  {
   "cell_type": "markdown",
   "id": "cce404bf-7da0-4eda-adfd-95ef1fd4bb2a",
   "metadata": {},
   "source": [
    "## Siruri de Caractere"
   ]
  },
  {
   "cell_type": "code",
   "execution_count": null,
   "id": "ea925be3-e032-4b97-8cef-b4449d6a8401",
   "metadata": {},
   "outputs": [],
   "source": [
    "s1 = 'Hello'\n",
    "s2 = \"World\""
   ]
  },
  {
   "cell_type": "code",
   "execution_count": null,
   "id": "6e51010f-e9ee-4998-ac47-34c76dbccc73",
   "metadata": {},
   "outputs": [],
   "source": [
    "s1 + \" \" + s2"
   ]
  },
  {
   "cell_type": "code",
   "execution_count": null,
   "id": "eb6043b9-bcc4-4573-90c3-2b71cdefa5cf",
   "metadata": {},
   "outputs": [],
   "source": [
    "s1 * 3"
   ]
  },
  {
   "cell_type": "code",
   "execution_count": null,
   "id": "8d34de3f-63f8-45f7-85f7-c0e6544ce64d",
   "metadata": {},
   "outputs": [],
   "source": [
    "s1.lower()"
   ]
  },
  {
   "cell_type": "code",
   "execution_count": null,
   "id": "785013ae-44cf-499e-82cc-97e21abacc23",
   "metadata": {},
   "outputs": [],
   "source": [
    "s1.upper()"
   ]
  },
  {
   "cell_type": "code",
   "execution_count": null,
   "id": "c7abe100-b43a-4da8-ace4-ce888609d0a4",
   "metadata": {},
   "outputs": [],
   "source": [
    "s1.rjust(20)"
   ]
  },
  {
   "cell_type": "code",
   "execution_count": null,
   "id": "6b6333ee-69d8-46fe-9825-105ddce42b8b",
   "metadata": {},
   "outputs": [],
   "source": [
    "s1.ljust(20)"
   ]
  },
  {
   "cell_type": "code",
   "execution_count": null,
   "id": "b23efa06-923f-45c9-b13b-0a4568a67aa0",
   "metadata": {},
   "outputs": [],
   "source": [
    "sent = \"ana are mere\""
   ]
  },
  {
   "cell_type": "code",
   "execution_count": null,
   "id": "b7653bef-30f0-4472-8b11-94f853c4ed58",
   "metadata": {},
   "outputs": [],
   "source": [
    "sent.split()"
   ]
  },
  {
   "cell_type": "code",
   "execution_count": null,
   "id": "f4354ccd-caac-4464-9d5a-1a78d40d6258",
   "metadata": {},
   "outputs": [],
   "source": [
    "s = \"a,b,c,d\"\n",
    "s.split(',')"
   ]
  },
  {
   "cell_type": "code",
   "execution_count": null,
   "id": "9de60e4c-41fe-439f-b604-9a9db87695d8",
   "metadata": {},
   "outputs": [],
   "source": [
    "l = ['a', 'b', 'c', 'd']"
   ]
  },
  {
   "cell_type": "code",
   "execution_count": null,
   "id": "d54c2d22-80d8-4c7f-a006-c7776be0ce93",
   "metadata": {},
   "outputs": [],
   "source": [
    "'-'.join(l)"
   ]
  },
  {
   "cell_type": "code",
   "execution_count": null,
   "id": "f9d625f4-f9dc-45f3-9a72-454048839761",
   "metadata": {},
   "outputs": [],
   "source": []
  }
 ],
 "metadata": {
  "kernelspec": {
   "display_name": "Python 3 (ipykernel)",
   "language": "python",
   "name": "python3"
  },
  "language_info": {
   "codemirror_mode": {
    "name": "ipython",
    "version": 3
   },
   "file_extension": ".py",
   "mimetype": "text/x-python",
   "name": "python",
   "nbconvert_exporter": "python",
   "pygments_lexer": "ipython3",
   "version": "3.11.7"
  }
 },
 "nbformat": 4,
 "nbformat_minor": 5
}
